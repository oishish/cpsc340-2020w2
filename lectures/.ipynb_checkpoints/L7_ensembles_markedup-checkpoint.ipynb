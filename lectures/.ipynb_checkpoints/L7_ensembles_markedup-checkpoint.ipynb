{
 "cells": [
  {
   "cell_type": "markdown",
   "metadata": {},
   "source": [
    "## CPSC 340 Lecture 7: Ensemble Methods\n",
    "\n",
    "This notebook is for the in-class activities. It assumes you have already watched the [associated video](https://www.youtube.com/watch?v=3SD6fgNGZSo&list=PLWmXHcz_53Q02ZLeAxigki1JZFfCO6M-b&index=6)."
   ]
  },
  {
   "cell_type": "markdown",
   "metadata": {},
   "source": [
    "<font color='red'>**REMINDER TO START RECORDING**</font>\n",
    "\n",
    "Also, reminder to enable screen sharing for Participants."
   ]
  },
  {
   "cell_type": "markdown",
   "metadata": {},
   "source": [
    "## Today's pre-class songs\n",
    "\n",
    "1. Heybb! by binki\n",
    "2. Heaven by The Walkmen"
   ]
  },
  {
   "cell_type": "markdown",
   "metadata": {},
   "source": [
    "## Admin\n",
    "\n",
    "- a2 posted\n",
    "- a1 solution updated to include code\n",
    "- Survey results: https://edstem.org/us/courses/3226/discussion/218421\n",
    "  - You seem to be OK with breakout rooms ✔️\n",
    "  - You seem to be OK with recording the chat ✔️\n",
    "  - Your preference for how we spend class time seems to be:\n",
    "  1. Old exam questions\n",
    "  2. Video summary\n",
    "  3. True/False polls\n",
    "  4. Answering student questions\n",
    "- Countdown to reading week: 9 more classes"
   ]
  },
  {
   "cell_type": "markdown",
   "metadata": {},
   "source": [
    "## Video chapters\n",
    "\n",
    "- decision theory\n",
    "- classification metrics (bonus)\n",
    "- prominent hyperparameters\n",
    "- naive Bayes recap\n",
    "- ensembles - intro\n",
    "- averaging models\n",
    "- random forests\n",
    "  - average of a bunch of decision trees, but...\n",
    "  - each tree looks at a slightly different version of the dataset (bootstrap)\n",
    "  - each split (stump) only gets to choose from a random subset of the features\n",
    "- part 1 recap"
   ]
  },
  {
   "cell_type": "markdown",
   "metadata": {},
   "source": [
    "## Old exam questions"
   ]
  },
  {
   "cell_type": "markdown",
   "metadata": {},
   "source": [
    "#### From 2017W2 midterm\n",
    "\n",
    "Consider the classification boundary below, with the training data shown.\n",
    "\n",
    "![](img/L7/rf.png)\n",
    "\n",
    "Do you think this boundary was produced by a decision tree or a random forest? Briefly explain your reasoning."
   ]
  },
  {
   "cell_type": "markdown",
   "metadata": {},
   "source": [
    "**Mike's answer**: random forest. Some of the splits shown here wouldn't make sense for a decision tree. Random forests are harder to understand/interpret so it's harder to say yes/no to random forest given the picture, but we can say \"no\" to decision tree. "
   ]
  },
  {
   "cell_type": "markdown",
   "metadata": {},
   "source": [
    "_see code at the end of this notebook_"
   ]
  },
  {
   "cell_type": "markdown",
   "metadata": {},
   "source": [
    "#### From 2017S1 midterm\n",
    "\n",
    "Why do we create random forests out of random trees (trees where each stump only looks at a subset of the features, and the dataset is a bootstrap sample) rather than creating them out of regular decision trees?"
   ]
  },
  {
   "cell_type": "markdown",
   "metadata": {},
   "source": [
    "**Mike's answer:** If we used regular decision trees, we'd get the same tree each time, and averaging would not accomplish anything."
   ]
  },
  {
   "cell_type": "markdown",
   "metadata": {},
   "source": [
    "## True/False questions\n",
    "\n",
    "The following hyperparameter changes would result in **lower training error**:\n",
    "\n",
    "1. Increasing the number of features considered for each split in a random forest will tend to decrease training error.\n",
    "2. Increasing the number of trees in a random forest will tend to decrease training error.\n",
    "3. Let classifiers A, B, and C have training errors of 10%, 30%, and 30%, respectively. Then, the best possible training error from averaging A, B and C is 10%.\n",
    "4. Let classifiers A, B, and C all have 30% error. Then, the worst possible training error from averaging A, B and C is 30%.\n"
   ]
  },
  {
   "cell_type": "markdown",
   "metadata": {},
   "source": [
    "**Mike's answers**:\n",
    "\n",
    "1. True. Giving the trees more options means they should be able to better fit the training data.\n",
    "2. True. This is again making the model more complex which pushes the fundamental tradeoff towards lower training error.\n",
    "3. False. Surprisingly, adding in worse classifiers to a 10%-error-classifier can actually improve it! The power of averaging. \n",
    "4. False. "
   ]
  },
  {
   "cell_type": "code",
   "execution_count": null,
   "metadata": {},
   "outputs": [],
   "source": []
  },
  {
   "cell_type": "code",
   "execution_count": 9,
   "metadata": {
    "jupyter": {
     "source_hidden": true
    }
   },
   "outputs": [],
   "source": [
    "import numpy as np\n",
    "from sklearn.tree import DecisionTreeClassifier\n",
    "from sklearn.ensemble import RandomForestClassifier\n",
    "import matplotlib.pyplot as plt\n",
    "\n",
    "# code adapted from http://scikit-learn.org/stable/auto_examples/svm/plot_iris.html\n",
    "def plotClassifier(model, X, y, transformation=None, filename=None):\n",
    "    x1 = X[:, 0]\n",
    "    x2 = X[:, 1]\n",
    "    \n",
    "    x1_min, x1_max = int(x1.min()) - 1, int(x1.max()) + 1\n",
    "    x2_min, x2_max = int(x2.min()) - 1, int(x2.max()) + 1\n",
    "\n",
    "    x1_line =  np.linspace(x1_min, x1_max,200)\n",
    "    x2_line =  np.linspace(x2_min, x2_max,200)\n",
    "\n",
    "    x1_mesh, x2_mesh = np.meshgrid(x1_line, x2_line)\n",
    "\n",
    "    mesh_data = np.c_[x1_mesh.ravel(), x2_mesh.ravel()]\n",
    "    \n",
    "    if transformation is not None:\n",
    "        mesh_data = transformation(mesh_data)\n",
    "    y_pred = model.predict(mesh_data)\n",
    "    y_pred = np.reshape(y_pred, x1_mesh.shape)\n",
    "\n",
    "    plt.xlim([x1_mesh.min(), x1_mesh.max()])\n",
    "    plt.ylim([x2_mesh.min(), x2_mesh.max()])\n",
    "\n",
    "    plt.contourf(x1_mesh, x2_mesh, -y_pred, cmap=plt.cm.RdBu, alpha=0.6)\n",
    "\n",
    "    plt.scatter(x1[y<0], x2[y<0], color=\"b\", marker=\"x\", label=\"class $-1$\")\n",
    "    plt.scatter(x1[y>0], x2[y>0], color=\"r\", marker=\"o\", label=\"class $+1$\")\n",
    "    plt.legend(loc=\"best\")\n",
    "    plt.tick_params(axis='both', which='both', bottom='off', left='off', labelbottom='off', labelleft='off') # remove ticks\n",
    "    if filename is not None:\n",
    "        plt.savefig(filename)"
   ]
  },
  {
   "cell_type": "code",
   "execution_count": 36,
   "metadata": {
    "jupyter": {
     "source_hidden": true
    }
   },
   "outputs": [],
   "source": [
    "# make up some fake data\n",
    "np.random.seed(8)\n",
    "N = 20\n",
    "X = np.random.randn(N,2)\n",
    "y = np.random.choice((-1,+1),size=N)\n",
    "X[y>0,0] += 1\n",
    "X[y>0,1] += 1"
   ]
  },
  {
   "cell_type": "code",
   "execution_count": 37,
   "metadata": {},
   "outputs": [
    {
     "data": {
      "image/png": "[encoded data removed]",
      "text/plain": [
       "<Figure size 432x288 with 1 Axes>"
      ]
     },
     "metadata": {
      "needs_background": "light"
     },
     "output_type": "display_data"
    }
   ],
   "source": [
    "dt = DecisionTreeClassifier()\n",
    "dt.fit(X,y)\n",
    "plotClassifier(dt, X, y)"
   ]
  },
  {
   "cell_type": "code",
   "execution_count": 38,
   "metadata": {},
   "outputs": [
    {
     "data": {
      "image/png": "[encoded data removed]",
      "text/plain": [
       "<Figure size 432x288 with 1 Axes>"
      ]
     },
     "metadata": {
      "needs_background": "light"
     },
     "output_type": "display_data"
    }
   ],
   "source": [
    "rf = RandomForestClassifier(n_estimators=6)\n",
    "rf.fit(X,y)\n",
    "plotClassifier(rf, X, y)"
   ]
  },
  {
   "cell_type": "markdown",
   "metadata": {},
   "source": [
    "We can split up the random forest into its constituent trees and plot the decision boundary for each of these trees!"
   ]
  },
  {
   "cell_type": "code",
   "execution_count": 41,
   "metadata": {},
   "outputs": [
    {
     "data": {
      "image/png": "[encoded data removed]",
      "text/plain": [
       "<Figure size 720x720 with 6 Axes>"
      ]
     },
     "metadata": {
      "needs_background": "light"
     },
     "output_type": "display_data"
    }
   ],
   "source": [
    "plt.figure(figsize=(10,10))\n",
    "for i, tree in enumerate(rf.estimators_):\n",
    "    plt.subplot(3,2,i+1);\n",
    "    plotClassifier(tree, X, y);"
   ]
  },
  {
   "cell_type": "code",
   "execution_count": null,
   "metadata": {},
   "outputs": [],
   "source": []
  }
 ],
 "metadata": {
  "kernelspec": {
   "display_name": "Python 3",
   "language": "python",
   "name": "python3"
  },
  "language_info": {
   "codemirror_mode": {
    "name": "ipython",
    "version": 3
   },
   "file_extension": ".py",
   "mimetype": "text/x-python",
   "name": "python",
   "nbconvert_exporter": "python",
   "pygments_lexer": "ipython3",
   "version": "3.9.1"
  }
 },
 "nbformat": 4,
 "nbformat_minor": 4
}
