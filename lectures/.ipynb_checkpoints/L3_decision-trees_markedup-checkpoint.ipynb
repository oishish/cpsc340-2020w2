{
 "cells": [
  {
   "cell_type": "markdown",
   "metadata": {},
   "source": [
    "## CPSC 340 Lecture 3: Decision Trees\n",
    "\n",
    "This notebook is for the in-class activities. It assumes you have already watched the [associated video](https://www.youtube.com/watch?v=WYDPYIe3RpQ&list=PLWmXHcz_53Q02ZLeAxigki1JZFfCO6M-b&index=2)."
   ]
  },
  {
   "cell_type": "markdown",
   "metadata": {},
   "source": [
    "**REMINDER TO START RECORDING**"
   ]
  },
  {
   "cell_type": "markdown",
   "metadata": {},
   "source": [
    "## Admin\n",
    "\n",
    "- Syllabus quiz due today\n",
    "- a1 due next Wednesday\n",
    "- Tutorials start next week\n",
    "- Office hours started yesterday\n",
    "- Q&A on [Ed](https://edstem.org/us/courses/3226/)\n",
    "- It may take a few classes to figure out the ideal class format for this flipped classroom offering of CPSC 340. \n",
    "  - Feedback is welcome!\n",
    "- I am also not sure what medium to use for these sessions - maybe switch back to PowerPoint?\n",
    "  - Feedback welcome on this also.\n",
    "  - Maybe easier for students to take notes on another format?\n",
    "  - I will send out a survey probably next Friday to get feedback on various things. \n",
    "- I am recording the chat in these Zoom sessions.\n",
    "  - The recordings are only available to enrolled students (via Canvas).\n",
    "  - Maybe I will stop?\n",
    "  - In the meantime feel free to change your name to something unrecognizeable if you don't want your name associated with chat messages."
   ]
  },
  {
   "cell_type": "markdown",
   "metadata": {},
   "source": [
    "## Lecture chapters\n",
    "\n",
    "- recap: data representation\n",
    "- food allergy example\n",
    "- supervised learning\n",
    "- baseline prediction\n",
    "- decision trees intro\n",
    "- accuracy\n",
    "- decision stump learning\n",
    "- supervised learning notation (X, y, n, d)\n",
    "- decision stump cost\n",
    "- decision stump learning cont’d\n",
    "- decision *tree* learning\n",
    "- summary"
   ]
  },
  {
   "cell_type": "markdown",
   "metadata": {},
   "source": [
    "## True/False questions\n",
    "\n"
   ]
  },
  {
   "cell_type": "markdown",
   "metadata": {},
   "source": [
    "1. In our supervised learning notation, $X$ is a matrix of size $n \\times d$ and $y$ is a column vector with $n$ elements.\n",
    "2. When learning each decision stump we search all possible stumps and find the best stump.\n",
    "3. When learning a decision tree we search all possible trees and find the best tree.\n",
    "4. When learning **one** decision stump we need to sort the data $d$ times. "
   ]
  },
  {
   "cell_type": "markdown",
   "metadata": {},
   "source": [
    "**Mike's answers**:\n",
    "\n",
    "1. True\n",
    "2. True\n",
    "3. False\n",
    "4. True, we need to sort on each of the $d$ features."
   ]
  },
  {
   "cell_type": "markdown",
   "metadata": {},
   "source": [
    "## Old exam questions"
   ]
  },
  {
   "cell_type": "markdown",
   "metadata": {},
   "source": [
    "From 2016W2 midterm:\n",
    "\n",
    "![](img/L2/2016W2mt.png)"
   ]
  },
  {
   "cell_type": "markdown",
   "metadata": {},
   "source": [
    "1. If we were fitting a decision tree, how many candidate splits are there for the first split?\n",
    "\n",
    "**Mike's answer**:\n",
    "\n",
    "- 1st feature we have values 2, 3, 4, 5, 9, 10. \n",
    "- 6 unique values -> 5 possible splits.\n",
    "  1. 2 | 3, 4, 5, 9, 10. \n",
    "  2. 2, 3 | 4, 5, 9, 10.  \n",
    "  3. 2, 3, 4 | 5, 9, 10.  \n",
    "  4. 2, 3, 4, 5 | 9, 10.  \n",
    "  5. 2, 3, 4, 5, 9 | 10.  \n",
    "- 2nd feature we have values -1, 2, 3, 9, 10.\n",
    "- 5 unique values -> 4 possible splits.\n",
    "- Total -> 5+4=9 possible splits"
   ]
  },
  {
   "cell_type": "markdown",
   "metadata": {},
   "source": [
    "2. Can we obtain 100% accuracy with a single decision stump? Briefly justify your answer.\n",
    "\n",
    "**Mike's answer**: no, for all possible splits you will make some errors. You have +1s for small and big feature values and -1s in the middle."
   ]
  },
  {
   "cell_type": "markdown",
   "metadata": {},
   "source": [
    "From the 2017W1 midterm:"
   ]
  },
  {
   "cell_type": "markdown",
   "metadata": {},
   "source": [
    "![](img/L2/2017W1mt.png)"
   ]
  },
  {
   "cell_type": "markdown",
   "metadata": {},
   "source": [
    "1. What is a decision stump that maximizes accuracy? Briefly justify your choice."
   ]
  },
  {
   "cell_type": "markdown",
   "metadata": {},
   "source": [
    "**Mike's answer**\n",
    "\n",
    "#### Feature 1\n",
    "\n",
    "if x_1<=0 predict 1 else predict 3\n",
    "accuracy: 6/10\n",
    "\n",
    "#### Feature 2\n",
    "\n",
    "if x_2<=0 predict 3 else predict 2\n",
    "accuracy: 5/10\n",
    "\n",
    "So a stump that maximizes accuracy is \"if x_1<=0 predict 1 else predict 3\" with accuracy 6/10.\n"
   ]
  },
  {
   "cell_type": "markdown",
   "metadata": {},
   "source": [
    "2. How would your decision stump from part (a) classify the example $\\hat{x}=[0 \\;\\; 0]$?\n",
    "\n",
    "**Mike's answer:** since x_1=0 it would predict 1."
   ]
  },
  {
   "cell_type": "markdown",
   "metadata": {},
   "source": [
    "From 2018W1 midterm:\n",
    "\n",
    "![](img/L2/2018W1mt.png)"
   ]
  },
  {
   "cell_type": "markdown",
   "metadata": {},
   "source": [
    "What is the minimum depth of decision tree needed to get zero training error on this data set? Briefly explain your reasoning. Feel free to draw on the plot if it helps."
   ]
  },
  {
   "cell_type": "code",
   "execution_count": null,
   "metadata": {},
   "outputs": [],
   "source": []
  }
 ],
 "metadata": {
  "kernelspec": {
   "display_name": "Python 3",
   "language": "python",
   "name": "python3"
  },
  "language_info": {
   "codemirror_mode": {
    "name": "ipython",
    "version": 3
   },
   "file_extension": ".py",
   "mimetype": "text/x-python",
   "name": "python",
   "nbconvert_exporter": "python",
   "pygments_lexer": "ipython3",
   "version": "3.9.1"
  }
 },
 "nbformat": 4,
 "nbformat_minor": 4
}
