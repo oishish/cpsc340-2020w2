{
 "cells": [
  {
   "cell_type": "markdown",
   "metadata": {},
   "source": [
    "## CPSC 340 Lecture 9: more clustering, outlier detection\n",
    "\n",
    "This notebook is for the in-class activities. It assumes you have already watched the [associated video](https://www.youtube.com/watch?v=-AjHSremYx4&list=PLWmXHcz_53Q02ZLeAxigki1JZFfCO6M-b&index=8)."
   ]
  },
  {
   "cell_type": "markdown",
   "metadata": {},
   "source": [
    "<font color='red'>**REMINDER TO START RECORDING**</font>\n",
    "\n",
    "Also, reminder to enable screen sharing for Participants."
   ]
  },
  {
   "cell_type": "markdown",
   "metadata": {},
   "source": [
    "## Today's pre-class songs\n",
    "\n",
    "1. Don't Stop Me Now by Queen\n",
    "2. Telo-Telo by 23.exe"
   ]
  },
  {
   "cell_type": "markdown",
   "metadata": {},
   "source": [
    "## Admin\n",
    "\n",
    "- Bonus slides posted\n",
    "- Next video (optimization intro) considered a bit \"light\" - consider faster playback?\n",
    "- Optional extremely short survey on tutorials [here](https://docs.google.com/forms/d/e/1FAIpQLSfYyejI-C1gZcI5vOLKnUBSpKQue-TARi_tRSKpd27uaPS3jw/viewform).\n",
    "- Countdown to reading week: 7 more classes"
   ]
  },
  {
   "cell_type": "markdown",
   "metadata": {},
   "source": [
    "## Video chapters\n",
    "\n",
    "- density-based clustering\n",
    "- ensemble clustering\n",
    "- hierarchical clustering\n",
    "- outlier detection intro\n",
    "- outlier detection approaches\n",
    "- sanity checking data\n",
    "- model-based outlier detection\n",
    "- global vs. local outliers\n",
    "- graphical outlier detection\n",
    "- cluster-based outlier detection\n",
    "- summary"
   ]
  },
  {
   "cell_type": "markdown",
   "metadata": {},
   "source": [
    "## Old exam questions"
   ]
  },
  {
   "cell_type": "markdown",
   "metadata": {},
   "source": [
    "#### From 2016W2 midterm\n",
    "\n",
    "Which of the following methods are primarily used for supervised learning? \n",
    "\n",
    "1. $k$-means clustering\n",
    "2. $k$-nearest neighbour classifier \n",
    "3. decision tree\n",
    "4. naive Bayes \n",
    "5. DBSCAN"
   ]
  },
  {
   "cell_type": "markdown",
   "metadata": {},
   "source": [
    "#### From 2017S1 midterm\n",
    "\n",
    "1. Explain the basic difficulty with naively ensembling (averaging) several different clusterings produced by $k$-means.\n",
    "2. Name one advantage and one disadvantage of removing outliers before starting to train a model."
   ]
  },
  {
   "cell_type": "code",
   "execution_count": null,
   "metadata": {},
   "outputs": [],
   "source": []
  },
  {
   "cell_type": "code",
   "execution_count": null,
   "metadata": {},
   "outputs": [],
   "source": []
  },
  {
   "cell_type": "markdown",
   "metadata": {},
   "source": [
    "#### From 2017W2 midterm\n",
    "\n",
    "1. Is it possible that DBSCAN would learn a separate cluster for every point in a data set? If so, with what hyperparameters? If not, why not?\n",
    "2. Name **two** advantages of DBSCAN over $k$-means clustering.\n",
    "3. What are the hyperparameter(s) of $k$-means? What are the parameter(s)?"
   ]
  },
  {
   "cell_type": "markdown",
   "metadata": {},
   "source": [
    "#### From 2018W1 midterm\n",
    "\n",
    "In $k$-means we can often obtain a much better clustering by using a large number of random initializations of the initial means. In DBSCAN, we could randomize the order of the training examples that we test for new clusters. Is it generally a good idea to run DBSCAN with a large number of different random orderings? Briefly justify your answer."
   ]
  },
  {
   "cell_type": "markdown",
   "metadata": {},
   "source": [
    "## Student questions\n",
    "\n",
    "https://edstem.org/us/courses/3226/discussion/224517"
   ]
  }
 ],
 "metadata": {
  "kernelspec": {
   "display_name": "Python 3",
   "language": "python",
   "name": "python3"
  },
  "language_info": {
   "codemirror_mode": {
    "name": "ipython",
    "version": 3
   },
   "file_extension": ".py",
   "mimetype": "text/x-python",
   "name": "python",
   "nbconvert_exporter": "python",
   "pygments_lexer": "ipython3",
   "version": "3.9.1"
  }
 },
 "nbformat": 4,
 "nbformat_minor": 4
}
