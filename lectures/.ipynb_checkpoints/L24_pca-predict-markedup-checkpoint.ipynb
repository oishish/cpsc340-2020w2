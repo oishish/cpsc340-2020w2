{
 "cells": [
  {
   "cell_type": "markdown",
   "metadata": {},
   "source": [
    "## CPSC 340 Lecture 24: PCA `predict`\n",
    "\n",
    "This notebook is for the in-class activities. It assumes you have already watched the [associated video](https://www.youtube.com/watch?v=jHTBYlKzaGE&list=PLWmXHcz_53Q02ZLeAxigki1JZFfCO6M-b&index=24)."
   ]
  },
  {
   "cell_type": "markdown",
   "metadata": {},
   "source": [
    "<font color='red'>**REMINDER TO START RECORDING**</font>\n",
    "\n",
    "Also, reminder to enable screen sharing for Participants."
   ]
  },
  {
   "cell_type": "markdown",
   "metadata": {},
   "source": [
    "## Pre-class music\n",
    "\n"
   ]
  },
  {
   "cell_type": "markdown",
   "metadata": {},
   "source": [
    "1. 告白氣球 by Jay Chou\n",
    "2. The Hand That Feeds by The Crane Wives"
   ]
  },
  {
   "cell_type": "markdown",
   "metadata": {},
   "source": [
    "## Admin\n",
    "\n",
    "- My office hour is rescheduled this week.\n",
    "  - It's tomorrow at 12:30pm"
   ]
  },
  {
   "cell_type": "markdown",
   "metadata": {},
   "source": [
    "## Video chapters\n",
    "\n",
    "- recap\n",
    "- latent factor models\n",
    "- PCA demo\n",
    "- VQ vs. PCA\n",
    "- PCA notation\n",
    "- matrix factorization \n",
    "- map examples\n",
    "- least squares vs. PCA\n",
    "- PCA applications\n",
    "- summary"
   ]
  },
  {
   "cell_type": "markdown",
   "metadata": {},
   "source": [
    "## Old exam questions\n"
   ]
  },
  {
   "cell_type": "markdown",
   "metadata": {},
   "source": [
    "#### 2017W1 final\n",
    "\n",
    "![](img/L24/sizes.png)"
   ]
  },
  {
   "cell_type": "markdown",
   "metadata": {},
   "source": [
    "Pre-chat:\n",
    "\n",
    "- $W$ stores the \"latent factors\" or \"basis vectors\" ...\n",
    "- $Z$ stores the transformed $X$\n",
    "- Earlier in the course we had $Z$ matrices of size $n\\times k$, e.g. polynomial basis\n",
    "- $X\\approx ZW$ -> this means $W$ has to be $k \\times d$.\n",
    "- We use $i$ to index from $1\\ldots n$, we use $j$ to index from $1 \\ldots d$, and we use $c$ to index from $1 \\ldots k$.\n",
    "- We've been using $x_{ij}$ to mean example $i$, feature $j$.\n",
    "\n",
    "**Mike's answers:**\n",
    "\n",
    "- (a) A vector of length $k$, or size $k\\times 1$\n",
    "- (b) A scalar, or size $1 \\times 1$\n",
    "- (c) This was called $w^{j}$ in the video. A vector of length $k$, or size $k \\times 1$\n",
    "- (d) This was called $w_c$ in the video. A vector of length $d$, or size $d \\times 1$\n",
    "- (e) A scalar, or size $1 \\times 1$\n",
    "- (f) Sanity check: $W$ has size $k \\times d$, $x_i$ has size $d \\times 1$, the product should have size $k \\times 1$."
   ]
  },
  {
   "cell_type": "markdown",
   "metadata": {},
   "source": [
    "#### 2016W2 final\n",
    "\n",
    "![](img/L24/parts.png)"
   ]
  },
  {
   "cell_type": "markdown",
   "metadata": {},
   "source": [
    "**Mike's answers:**\n",
    "\n",
    "Part (a): $n=5, d=4, k=2$\n",
    "\n",
    "Part (b): This vector happens to be -2 times the first row of $W$, so the low dimensional representation is $[-2\\quad 0]^T$."
   ]
  },
  {
   "cell_type": "markdown",
   "metadata": {},
   "source": [
    "## Extra practice questions\n",
    "\n",
    "The following questions pertain to PCA:\n",
    "\n",
    "1) True or False: When $k=d$ then $X=ZW$.\n"
   ]
  },
  {
   "cell_type": "markdown",
   "metadata": {},
   "source": [
    "**Mike's answer:** True. If you set $W$ to be the $d \\times d$ identity matrix, and set $Z=X$, then you're good to go. "
   ]
  },
  {
   "cell_type": "markdown",
   "metadata": {},
   "source": [
    "2) When $k<d$ is it possible that $X = ZW$?"
   ]
  },
  {
   "cell_type": "markdown",
   "metadata": {},
   "source": [
    "**Mike's answer:** Yes. For very specific/special data sets yes, e.g. the video game example where you can't leave the ground. "
   ]
  },
  {
   "cell_type": "markdown",
   "metadata": {},
   "source": [
    "3) In the \"goats\" example from lecture, what are $d, k$ and $n$? "
   ]
  },
  {
   "cell_type": "markdown",
   "metadata": {},
   "source": [
    "**Mike's answer:** $d=3, k=2$ and $n$ is the number of goats!"
   ]
  },
  {
   "cell_type": "markdown",
   "metadata": {},
   "source": [
    "## Student questions\n",
    "\n",
    "https://edstem.org/us/courses/3226/discussion/316753"
   ]
  },
  {
   "cell_type": "code",
   "execution_count": null,
   "metadata": {},
   "outputs": [],
   "source": []
  }
 ],
 "metadata": {
  "kernelspec": {
   "display_name": "Python 3",
   "language": "python",
   "name": "python3"
  },
  "language_info": {
   "codemirror_mode": {
    "name": "ipython",
    "version": 3
   },
   "file_extension": ".py",
   "mimetype": "text/x-python",
   "name": "python",
   "nbconvert_exporter": "python",
   "pygments_lexer": "ipython3",
   "version": "3.8.5"
  }
 },
 "nbformat": 4,
 "nbformat_minor": 4
}
