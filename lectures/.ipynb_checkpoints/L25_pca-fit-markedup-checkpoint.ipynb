{
 "cells": [
  {
   "cell_type": "markdown",
   "metadata": {},
   "source": [
    "## CPSC 340 Lecture 25: PCA `fit`\n",
    "\n",
    "This notebook is for the in-class activities. It assumes you have already watched the [associated video](https://www.youtube.com/watch?v=LT-OYHPWBxE&list=PLWmXHcz_53Q02ZLeAxigki1JZFfCO6M-b&index=25)."
   ]
  },
  {
   "cell_type": "markdown",
   "metadata": {},
   "source": [
    "<font color='red'>**REMINDER TO START RECORDING**</font>\n",
    "\n",
    "Also, reminder to enable screen sharing for Participants."
   ]
  },
  {
   "cell_type": "markdown",
   "metadata": {},
   "source": [
    "## Pre-class music\n",
    "\n"
   ]
  },
  {
   "cell_type": "markdown",
   "metadata": {},
   "source": [
    "1. Yo No Sé Mañana by Luis Enrique\n",
    "2. Last Train to London by Electric Light Orchestra"
   ]
  },
  {
   "cell_type": "markdown",
   "metadata": {},
   "source": [
    "## Admin\n",
    "\n",
    "- Next class we'll do an optional review / more PCA."
   ]
  },
  {
   "cell_type": "markdown",
   "metadata": {},
   "source": [
    "## Video chapters\n",
    "\n",
    "- recap\n",
    "- PCA objective function\n",
    "- data centering\n",
    "- \"prediction\" with PCA\n",
    "- non-uniqueness of solutions\n",
    "- making PCA unique\n",
    "- PCA computation: SVD\n",
    "- PCA computation: alternating minimization\n",
    "- PCA computational: SGD\n",
    "- choosing $k$\n",
    "- summary"
   ]
  },
  {
   "cell_type": "markdown",
   "metadata": {},
   "source": [
    "## Old exam questions\n"
   ]
  },
  {
   "cell_type": "markdown",
   "metadata": {},
   "source": [
    "#### 2016W2 final\n",
    "\n",
    "![](img/L25/2016W2.png)\n",
    "\n",
    "In class we discussed the fact that the solution to PCA is not unique. Write down another solution (a different pair $Z$ and $W$ with the same loss as the above)."
   ]
  },
  {
   "cell_type": "markdown",
   "metadata": {},
   "source": [
    "**Mike's answer:** Many answers. $-Z, -W$. Other options: switch the columns of $Z$ and the rows of $W$. "
   ]
  },
  {
   "cell_type": "code",
   "execution_count": null,
   "metadata": {},
   "outputs": [],
   "source": []
  },
  {
   "cell_type": "code",
   "execution_count": null,
   "metadata": {},
   "outputs": [],
   "source": []
  },
  {
   "cell_type": "markdown",
   "metadata": {},
   "source": [
    "#### 2018W1 final\n",
    "\n",
    "![](img/L25/parta.png)"
   ]
  },
  {
   "cell_type": "markdown",
   "metadata": {},
   "source": [
    "$n=d=4$, $k=2$. $X$ is $n\\times d$ so it's $4 \\times 4$. \n",
    "\n",
    "**Mike's answer:** It's the dot product of $[10 \\quad 10]$ with $[.5 \\quad .7]$ so we have $5+7=12$."
   ]
  },
  {
   "cell_type": "markdown",
   "metadata": {},
   "source": [
    "![](img/L25/partb.png)"
   ]
  },
  {
   "cell_type": "markdown",
   "metadata": {},
   "source": [
    "**Mike's answer:** $Z$ would be the first column of the current $Z$; $W$ would be the first row of the current $W$. "
   ]
  },
  {
   "cell_type": "code",
   "execution_count": null,
   "metadata": {},
   "outputs": [],
   "source": []
  },
  {
   "cell_type": "code",
   "execution_count": null,
   "metadata": {},
   "outputs": [],
   "source": []
  },
  {
   "cell_type": "markdown",
   "metadata": {},
   "source": [
    "![](img/L25/partc.png)"
   ]
  },
  {
   "cell_type": "markdown",
   "metadata": {},
   "source": [
    "**Mike's answer:** No. You could have two different points in the original ($d$-dimensional) space that get projected onto the same point in the $k$-dimensional subspace. "
   ]
  },
  {
   "cell_type": "code",
   "execution_count": null,
   "metadata": {},
   "outputs": [],
   "source": []
  },
  {
   "cell_type": "markdown",
   "metadata": {},
   "source": [
    "![](img/L25/partd.png)"
   ]
  },
  {
   "cell_type": "markdown",
   "metadata": {},
   "source": [
    "What is variance explained again?? It's basically the loss, but flipped so that larger is better, and scaled to be between 0 and 1. Zero loss means perfect reconstruction means $X=ZW$ is variance explained of 1 or 100%. If you have zero PCs then that is variance explained of 0%. \n",
    "\n",
    "**Mike's answer:** Let $V_c$ be the variance explained by component $c$. Because of sequential fitting, $V_1 \\geq V_2 \\geq V_3 \\geq V_4$. In the question, $k=2$, so the variance explained is $V_1 + V_2$ which must be at least half of the total variance ($V_1+V_2+V_3+V_4$). \n",
    "\n",
    "In other words: $d=4$ and $k=2$, so you're using half the available components, but the \"good half\" because we take the best ones first. \n",
    "\n",
    "In other words: if you cut a pie into 4 slices and eat the 2 biggest ones, then the pie is at least half eaten. (Slices <-> principal components, fraction of pie eaten <-> variance explained)\n",
    "\n",
    "Good news: Mike considers this on the high end of exam question difficulty."
   ]
  },
  {
   "cell_type": "code",
   "execution_count": null,
   "metadata": {},
   "outputs": [],
   "source": []
  },
  {
   "cell_type": "code",
   "execution_count": null,
   "metadata": {},
   "outputs": [],
   "source": []
  },
  {
   "cell_type": "markdown",
   "metadata": {},
   "source": [
    "![](img/L25/parte.png)"
   ]
  },
  {
   "cell_type": "markdown",
   "metadata": {},
   "source": [
    "**Mike's answer:** Keep $Z$ the same and swap the first two columns of $W$."
   ]
  },
  {
   "cell_type": "markdown",
   "metadata": {},
   "source": [
    "![](img/L25/partf.png)"
   ]
  },
  {
   "cell_type": "markdown",
   "metadata": {},
   "source": [
    "**Mike's answer:** Small because I don't see any 0s in $Z$ or $W$. "
   ]
  },
  {
   "cell_type": "markdown",
   "metadata": {},
   "source": [
    "## True/False questions\n",
    "\n",
    "1. It's best to pick $k$ as the largest value so that we capture most of the variance in the data\n",
    "2. The first principal component is always the one with highest variance in the data.\n",
    "3. If your $X$ has two identical columns, than the variance explained by your last principal component will be zero."
   ]
  },
  {
   "cell_type": "markdown",
   "metadata": {},
   "source": [
    "## Student questions\n",
    "\n",
    "https://edstem.org/us/courses/3226/discussion/322454"
   ]
  },
  {
   "cell_type": "code",
   "execution_count": null,
   "metadata": {},
   "outputs": [],
   "source": []
  }
 ],
 "metadata": {
  "kernelspec": {
   "display_name": "Python 3",
   "language": "python",
   "name": "python3"
  },
  "language_info": {
   "codemirror_mode": {
    "name": "ipython",
    "version": 3
   },
   "file_extension": ".py",
   "mimetype": "text/x-python",
   "name": "python",
   "nbconvert_exporter": "python",
   "pygments_lexer": "ipython3",
   "version": "3.8.5"
  }
 },
 "nbformat": 4,
 "nbformat_minor": 4
}
