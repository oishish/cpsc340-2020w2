{
 "cells": [
  {
   "cell_type": "markdown",
   "metadata": {},
   "source": [
    "## CPSC 340 Lecture 16: L2 regularization\n",
    "\n",
    "This notebook is for the in-class activities. It assumes you have already watched the [associated video](https://www.youtube.com/watch?v=bBOSykZjvK4&list=PLWmXHcz_53Q02ZLeAxigki1JZFfCO6M-b&index=15)."
   ]
  },
  {
   "cell_type": "markdown",
   "metadata": {},
   "source": [
    "<font color='red'>**REMINDER TO START RECORDING**</font>\n",
    "\n",
    "Also, reminder to enable screen sharing for Participants."
   ]
  },
  {
   "cell_type": "markdown",
   "metadata": {},
   "source": [
    "## Pre-class music\n",
    "\n"
   ]
  },
  {
   "cell_type": "markdown",
   "metadata": {},
   "source": [
    "## Admin\n",
    "\n",
    "- a3 in progress, due Wednesday\n",
    "- I may move the course website from github.com to github.ubc.ca or Canvas\n",
    "  - I don't want to make so many old exam questions public\n",
    "  - If so, I'll send an announcement on Canvas"
   ]
  },
  {
   "cell_type": "markdown",
   "metadata": {},
   "source": [
    "## Midterm info\n",
    "\n",
    "- In class on Friday, Feb 26\n",
    "- On Canvas, 50 minutes in the window of 4:00-4:55pm\n",
    "- Open book\n",
    "- No communication with others\n",
    "- No invigilation\n",
    "- 1 question at a time? Can you go back? Will announce after the break. \n",
    "- Any clarifications or announcements will be made in a dedicated Ed thread (not yet created)\n",
    "- Covers lectures 2-14, assignments 1-3\n",
    "- Today's material, and Mon/Wed next week, not covered\n",
    "- Old exams available on Canvas under Files\n",
    "  - Note that the timing (and thus coverae) of the midterm varies from year to year"
   ]
  },
  {
   "cell_type": "markdown",
   "metadata": {},
   "source": [
    "## Video chapters\n",
    "\n",
    "- feature selection challenges\n",
    "- L2 regularization\n",
    "- regularization as a compromise\n",
    "- regularization demo: polynomials\n",
    "- regularization demo: RBFs\n",
    "- RBFs: sigma vs. lambda\n",
    "- Q&A\n",
    "- regularization path\n",
    "- normal equations with L2 regularization\n",
    "- other applications\n",
    "- summary"
   ]
  },
  {
   "cell_type": "code",
   "execution_count": null,
   "metadata": {},
   "outputs": [],
   "source": []
  },
  {
   "cell_type": "code",
   "execution_count": null,
   "metadata": {},
   "outputs": [],
   "source": []
  },
  {
   "cell_type": "markdown",
   "metadata": {},
   "source": [
    "talk about minute 41 in the video, that piazza post - go into detail of that here."
   ]
  },
  {
   "cell_type": "code",
   "execution_count": null,
   "metadata": {},
   "outputs": [],
   "source": []
  }
 ],
 "metadata": {
  "kernelspec": {
   "display_name": "Python 3",
   "language": "python",
   "name": "python3"
  },
  "language_info": {
   "codemirror_mode": {
    "name": "ipython",
    "version": 3
   },
   "file_extension": ".py",
   "mimetype": "text/x-python",
   "name": "python",
   "nbconvert_exporter": "python",
   "pygments_lexer": "ipython3",
   "version": "3.9.1"
  }
 },
 "nbformat": 4,
 "nbformat_minor": 4
}
