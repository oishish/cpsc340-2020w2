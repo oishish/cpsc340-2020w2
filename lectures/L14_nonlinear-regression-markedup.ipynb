{
 "cells": [
  {
   "cell_type": "markdown",
   "metadata": {},
   "source": [
    "## CPSC 340 Lecture 14: nonlinear regression\n",
    "\n",
    "This notebook is for the in-class activities. It assumes you have already watched the [associated video](https://www.youtube.com/watch?v=Z1O7BGDq2ik&list=PLWmXHcz_53Q02ZLeAxigki1JZFfCO6M-b&index=13)."
   ]
  },
  {
   "cell_type": "markdown",
   "metadata": {},
   "source": [
    "<font color='red'>**REMINDER TO START RECORDING**</font>\n",
    "\n",
    "Also, reminder to enable screen sharing for Participants."
   ]
  },
  {
   "cell_type": "markdown",
   "metadata": {},
   "source": [
    "## Pre-class music\n",
    "\n",
    "Lingus by Snarky Puppy"
   ]
  },
  {
   "cell_type": "markdown",
   "metadata": {},
   "source": [
    "## Admin\n",
    "\n",
    "- a3 in progress\n",
    "- We didn't have much time left to talk about the data space vs. parameter space last time - please review if needed.\n",
    "- A lot of content in today's lecture as well 😅\n",
    "- Countdown to reading week: 2 more classes"
   ]
  },
  {
   "cell_type": "markdown",
   "metadata": {},
   "source": [
    "## Video chapters\n",
    "\n",
    "- smooth approximations \n",
    "- loss functions recap\n",
    "- nonlinear regression\n",
    "- polynomial features\n",
    "- robust regression demo\n",
    "- polynomial regression demo\n",
    "- other non-linear transforms\n",
    "- RBF intro\n",
    "- RBF demo\n",
    "- RBF details"
   ]
  },
  {
   "cell_type": "markdown",
   "metadata": {},
   "source": [
    "## Old exam questions\n",
    "\n",
    "I will order these by topic instead of chronologically."
   ]
  },
  {
   "cell_type": "markdown",
   "metadata": {},
   "source": [
    "### Smooth approximations"
   ]
  },
  {
   "cell_type": "markdown",
   "metadata": {},
   "source": [
    "##### From 2018W1 midterm\n",
    "\n",
    "Consider the loss function $f(r) = \\sum^n_{i=1} \\max\\{r_i,−2r_i\\}$. Write down a version of this loss\n",
    "function that is smoothed with the log-sum-exp."
   ]
  },
  {
   "cell_type": "markdown",
   "metadata": {},
   "source": [
    "<div class=\"alert alert-block alert-success\">\n",
    "\n",
    "$f(r) = \\sum^n_{i=1} \\ln\\{e^{r_i} + e^{−2r_i}\\}$\n",
    "\n",
    "</div>"
   ]
  },
  {
   "cell_type": "markdown",
   "metadata": {},
   "source": [
    "### Polynomial basis"
   ]
  },
  {
   "cell_type": "markdown",
   "metadata": {},
   "source": [
    "##### From 2018W1 midterm\n",
    "\n",
    "![](img/L14/poly_a.png)"
   ]
  },
  {
   "cell_type": "markdown",
   "metadata": {},
   "source": [
    "![](img/L14/poly_b.png)\n"
   ]
  },
  {
   "cell_type": "markdown",
   "metadata": {},
   "source": [
    "![](img/L14/poly_c.png)"
   ]
  },
  {
   "cell_type": "markdown",
   "metadata": {},
   "source": [
    "<div class=\"alert alert-block alert-success\">\n",
    "\n",
    "(a) \n",
    "$$\n",
    "    Z = \n",
    "    \\begin{bmatrix}\n",
    "    1 & -3 & 9 \\\\\n",
    "    1 &  4 & 16 \\\\\n",
    "    1 & -1 & 1 \\\\\n",
    "    1 &  3 & 9 \\\\\n",
    "    \\end{bmatrix}\n",
    "$$\n",
    "    \n",
    "(b) $y = 5$\n",
    "\n",
    "(c) Yes, given that our model predicted a zero weight for the quadratic term in this case.\n",
    "    \n",
    "</div>"
   ]
  },
  {
   "cell_type": "markdown",
   "metadata": {},
   "source": [
    "##### From 2018W1 midterm\n",
    "\n",
    "When we do regression with a polynomial basis, how does the degree of the polynomial $p$ affect the two parts of the fundamental trade-off?"
   ]
  },
  {
   "cell_type": "markdown",
   "metadata": {},
   "source": [
    "<div class=\"alert alert-block alert-success\">\n",
    "\n",
    "Larger $p \\to$ more complex: lower training error, higher approx error.\n",
    "</div>"
   ]
  },
  {
   "cell_type": "markdown",
   "metadata": {},
   "source": [
    "##### From 2018W1 final\n",
    "\n",
    "For linear regression with $d = 1$ using a polynomial basis of degree $p$,  how many trainable parameters does the model have?"
   ]
  },
  {
   "cell_type": "markdown",
   "metadata": {},
   "source": [
    "<div class=\"alert alert-block alert-success\">\n",
    "\n",
    "Same number of trainable parameters as the size of the basis $\\to p+1$\n",
    "\n",
    "</div>"
   ]
  },
  {
   "cell_type": "markdown",
   "metadata": {},
   "source": [
    "##### From 2016W2 final\n",
    "\n",
    "The following code attempts to use a polynomial (quadratic) basis where $d = 1$ (so `X` is a column vector) to train/test a regression model.\n",
    "However, the code contains a serious flaw. Briefly explain the problem and how you would fix it. You can assume numpy has been imported (`import numpy as np`) and the variables `n`, `d`, `X`, `y`, `Xtest`, `ytest` and `model` have been properly defined in the usual way.\n",
    "\n",
    "Hint: the flaw is conceptual rather than a python/numpy syntax issue.\n",
    "\n",
    "```python\n",
    "Z = np.zeros((n,3))\n",
    "Z[:,0] = 1\n",
    "Z[:,1] = X\n",
    "Z[:,2] = X**2\n",
    "model.fit(Z, y)\n",
    "training_error = np.sum((model.predict(Z)-y)**2) \n",
    "test_error = np.sum((model.predict(Xtest)-ytest)**2)\n",
    "```"
   ]
  },
  {
   "cell_type": "markdown",
   "metadata": {},
   "source": [
    "<div class=\"alert alert-block alert-success\">\n",
    "\n",
    "Can't `model.predict` on Xtest without dealing with the higher order terms.\n",
    "\n",
    "</div>"
   ]
  },
  {
   "cell_type": "markdown",
   "metadata": {},
   "source": [
    "### RBF features"
   ]
  },
  {
   "cell_type": "markdown",
   "metadata": {},
   "source": [
    "##### From 2016W2 midterm\n",
    "\n",
    "For ordinary least squares linear regression with RBF features, what is the space complexity of the trained model?"
   ]
  },
  {
   "cell_type": "markdown",
   "metadata": {},
   "source": [
    "<div class=\"alert alert-block alert-success\">\n",
    "\n",
    "$O (nd)$: Need to keep track of all the training data.\n",
    "\n",
    "</div>"
   ]
  },
  {
   "cell_type": "markdown",
   "metadata": {},
   "source": [
    "##### From 2017W2 midterm\n",
    "\n",
    "Name one advantage and one disadvantage of using RBF features over polynomial features with linear regression."
   ]
  },
  {
   "cell_type": "markdown",
   "metadata": {},
   "source": [
    "<div class=\"alert alert-block alert-success\">\n",
    "\n",
    "**Disadvantage**: Much higher space complexity for a model, and non-parametric. Can also overfit somewhat.\n",
    "\n",
    "**Advantage**: Goes to zero far away from data instead of $-\\infty$ or $+\\infty$ which generally do not make physical sense. Can also learn more interesting/complex fits\n",
    "\n",
    "</div>"
   ]
  },
  {
   "cell_type": "markdown",
   "metadata": {},
   "source": [
    "## Student questions\n",
    "\n",
    "https://edstem.org/us/courses/3226/discussion/245940"
   ]
  }
 ],
 "metadata": {
  "kernelspec": {
   "display_name": "Python 3",
   "language": "python",
   "name": "python3"
  },
  "language_info": {
   "codemirror_mode": {
    "name": "ipython",
    "version": 3
   },
   "file_extension": ".py",
   "mimetype": "text/x-python",
   "name": "python",
   "nbconvert_exporter": "python",
   "pygments_lexer": "ipython3",
   "version": "3.8.1"
  }
 },
 "nbformat": 4,
 "nbformat_minor": 4
}
