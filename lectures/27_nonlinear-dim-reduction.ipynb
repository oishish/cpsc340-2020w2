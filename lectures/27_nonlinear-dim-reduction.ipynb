{
 "cells": [
  {
   "cell_type": "markdown",
   "metadata": {},
   "source": [
    "## CPSC 340 Lecture 27: multidimensional scaling / nonlinear dimensionality reduction\n",
    "\n",
    "This notebook is for the in-class activities. It assumes you have already watched the [associated video](https://www.youtube.com/watch?v=ZqhVNUhCSYM&list=PLWmXHcz_53Q02ZLeAxigki1JZFfCO6M-b&index=27)."
   ]
  },
  {
   "cell_type": "markdown",
   "metadata": {},
   "source": [
    "<font color='red'>**REMINDER TO START RECORDING**</font>\n",
    "\n",
    "Also, reminder to enable screen sharing for Participants."
   ]
  },
  {
   "cell_type": "markdown",
   "metadata": {},
   "source": [
    "## Pre-class music\n",
    "\n"
   ]
  },
  {
   "cell_type": "markdown",
   "metadata": {},
   "source": [
    "1. I Want To Break Free by Queen\n",
    "2. Chamber of Reflection by Mac DeMarco"
   ]
  },
  {
   "cell_type": "markdown",
   "metadata": {},
   "source": [
    "## Admin\n",
    "\n",
    "- a6 will be released soon, due last day of class (in 19 days)\n",
    "- I'm a couple days behind on Ed, will take a pass through this weekend\n",
    "- more info on the final exam coming next week (hopefully)\n",
    "- hang in there, this was the last full week of classes!"
   ]
  },
  {
   "cell_type": "markdown",
   "metadata": {},
   "source": [
    "## Video chapters\n",
    "\n",
    "- dimensionality reduction for visualization\n",
    "- multi-dimensional scaling\n",
    "- MDS cost functions\n",
    "- Sammon’s mapping\n",
    "- learning manifolds\n",
    "- image manifolds\n",
    "- ISOMAP\n",
    "- MNIST dimensionality reduction\n",
    "- t-SNE\n",
    "- recap\n",
    "- summary"
   ]
  },
  {
   "cell_type": "markdown",
   "metadata": {},
   "source": [
    "## True/False questions\n",
    "\n",
    "1. When using latent-factor models for visualization, the standard setting of the hyperparameter $k$ is $k=2$.\n",
    "2. MDS (multi-dimensional scaling) is a nonparametric model for supervised learning.\n",
    "3. The MDS loss is a sum over all pairs of examples.\n",
    "4. The MDS loss is convex.\n",
    "5. Unlike Euclidean distance, the geodesic distance between two points depends on the rest of the data set."
   ]
  },
  {
   "cell_type": "markdown",
   "metadata": {},
   "source": [
    "**Mike's answers:**\n",
    "\n",
    "1. True. Because our screens are 2-dimensional.\n",
    "2. False. \"MDS is a nonparametric model for **unsupervised** learning\". \n",
    "3. True.\n",
    "4. False.\n",
    "5. True."
   ]
  }
 ],
 "metadata": {
  "kernelspec": {
   "display_name": "Python 3",
   "language": "python",
   "name": "python3"
  },
  "language_info": {
   "codemirror_mode": {
    "name": "ipython",
    "version": 3
   },
   "file_extension": ".py",
   "mimetype": "text/x-python",
   "name": "python",
   "nbconvert_exporter": "python",
   "pygments_lexer": "ipython3",
   "version": "3.8.5"
  }
 },
 "nbformat": 4,
 "nbformat_minor": 4
}
