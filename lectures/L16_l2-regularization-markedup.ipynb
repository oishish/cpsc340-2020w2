{
 "cells": [
  {
   "cell_type": "markdown",
   "metadata": {},
   "source": [
    "## CPSC 340 Lecture 16: L2 regularization\n",
    "\n",
    "This notebook is for the in-class activities. It assumes you have already watched the [associated video](https://www.youtube.com/watch?v=bBOSykZjvK4&list=PLWmXHcz_53Q02ZLeAxigki1JZFfCO6M-b&index=15)."
   ]
  },
  {
   "cell_type": "markdown",
   "metadata": {},
   "source": [
    "<font color='red'>**REMINDER TO START RECORDING**</font>\n",
    "\n",
    "Also, reminder to enable screen sharing for Participants."
   ]
  },
  {
   "cell_type": "markdown",
   "metadata": {},
   "source": [
    "## Pre-class music\n",
    "\n"
   ]
  },
  {
   "cell_type": "markdown",
   "metadata": {},
   "source": [
    "1. Hello, Anxiety by Phum Viphurit\n",
    "2. Friends by Hyper Potions"
   ]
  },
  {
   "cell_type": "markdown",
   "metadata": {},
   "source": [
    "## Admin\n",
    "\n",
    "- a3 solutions posted\n",
    "- a4 posted, due March 10"
   ]
  },
  {
   "cell_type": "markdown",
   "metadata": {},
   "source": [
    "## Midterm info\n",
    "\n",
    "- In class on Friday, Feb 26\n",
    "- On Canvas, 50 minutes in the window of 4:00-4:55pm\n",
    "- Open book\n",
    "- No communication with others\n",
    "- No invigilation - *you do not need to join the Zoom meeting*\n",
    "- Mix of multiple choice and short answer.\n",
    "- Any clarifications or announcements will be made in a dedicated Ed thread: https://edstem.org/us/courses/3226/discussion/271610\n",
    "- Covers lectures 2-14, assignments 1-3\n",
    "- Last Friday's material, and today/Wed not covered (but very important!!)\n",
    "- Old exams available on Canvas under Files\n",
    "  - Note that the timing (and thus coverage) of the midterm varies from year to year"
   ]
  },
  {
   "cell_type": "markdown",
   "metadata": {},
   "source": [
    "## Video chapters\n",
    "\n",
    "- feature selection challenges\n",
    "- L2 regularization\n",
    "- regularization as a compromise\n",
    "- regularization demo: polynomials\n",
    "- regularization demo: RBFs\n",
    "- RBFs: sigma vs. lambda\n",
    "- Q&A\n",
    "- regularization path\n",
    "- normal equations with L2 regularization\n",
    "- other applications\n",
    "- summary"
   ]
  },
  {
   "cell_type": "markdown",
   "metadata": {},
   "source": [
    "## Revisiting a3 Q1\n",
    "\n",
    "Let's discuss 1.1.2:\n",
    "\n",
    "$f(w)=\\sum_{i=1}^n v_i(w^Tx_i  - y_i)^2 + \\frac{\\lambda}{2}\\sum_{j=1}^d w_j^2$\n",
    "\n",
    "and 1.2.2 (with $\\Lambda$ a diagonal matrix):\n",
    "\n",
    "$f(w)= \\frac{1}{2}\\|Xw - y\\|^2 + \\frac{1}{2}w^T\\Lambda w$ (least squares with weighted regularization)\n",
    "\n",
    "and 1.2.3:\n",
    "\n",
    "$f(w) = \\frac{1}{2}\\sum_{i=1}^n v_i (w^Tx_i - y_i)^2 + \\frac{\\lambda}{2}\\|w-w^0\\|^2$ (weighted least squares shrunk towards non-zero $w^0$)"
   ]
  },
  {
   "cell_type": "markdown",
   "metadata": {},
   "source": [
    "## Old exam questions\n"
   ]
  },
  {
   "cell_type": "markdown",
   "metadata": {},
   "source": [
    "#### 2016W2 final\n",
    "\n",
    "![](img/L16/matching.png)"
   ]
  },
  {
   "cell_type": "markdown",
   "metadata": {},
   "source": [
    "<div class=\"alert alert-block alert-success\">\n",
    "\n",
    "(a) i\n",
    "(b) iv\n",
    "(c) iii\n",
    "\n",
    "</div>"
   ]
  },
  {
   "cell_type": "markdown",
   "metadata": {},
   "source": [
    "#### 2016W2 midterm\n",
    "\n",
    "For OLS with L2-regularization, what is a good strategy for picking the regularization parameter $\\lambda$?\n"
   ]
  },
  {
   "cell_type": "markdown",
   "metadata": {},
   "source": [
    "<div class=\"alert alert-block alert-success\">\n",
    "\n",
    "Standard validation techniques should work like cross validation.\n",
    "\n",
    "</div>"
   ]
  },
  {
   "cell_type": "markdown",
   "metadata": {},
   "source": [
    "#### 2016W2 midterm\n",
    "\n",
    "\n",
    "![](img/L16/trainingerr.png)\n",
    "\n"
   ]
  },
  {
   "cell_type": "markdown",
   "metadata": {},
   "source": [
    "<div class=\"alert alert-block alert-success\">\n",
    "\n",
    "i. ~~True~~ False! KNN not $k$-means\n",
    "    \n",
    "ii. False\n",
    "    \n",
    "iii. True\n",
    "    \n",
    "iv. True\n",
    "    \n",
    "v. Probably not ... I mean yes somewhat but not a huge amount\n",
    "    \n",
    "vi. True\n",
    "\n",
    "</div>"
   ]
  },
  {
   "cell_type": "markdown",
   "metadata": {},
   "source": [
    "#### 2018W1 final\n",
    "\n",
    "![](img/L16/ab.png)"
   ]
  },
  {
   "cell_type": "markdown",
   "metadata": {},
   "source": [
    "![](img/L16/c.png)"
   ]
  },
  {
   "cell_type": "markdown",
   "metadata": {},
   "source": [
    "<div class=\"alert alert-block alert-success\">\n",
    "\n",
    "(a) A line with a slightly larger slope and slightly larger y intercept than a perfect fit.\n",
    "\n",
    "(b) No. Very obvious by the fact that the gradient is non-zero by the contour plot.\n",
    "\n",
    "(c) No. The regularized problem would always punish something at the stars location since it is at a > value of $w, w_0$. Oh I guess if $\\lambda < 0$ it could be possible.\n",
    "\n",
    "</div>"
   ]
  },
  {
   "cell_type": "markdown",
   "metadata": {},
   "source": [
    "#### 2016W2 midterm\n",
    "![](img/L16/alphabeta.png)"
   ]
  },
  {
   "cell_type": "markdown",
   "metadata": {},
   "source": [
    "<div class=\"alert alert-block alert-success\">\n",
    "\n",
    "Set $\\lambda = \\beta/\\alpha$ then note that minimizing $\\alpha/2 \\dots$ is equiv to minimizing $1/\\alpha$ times that quantity.\n",
    "\n",
    "</div>"
   ]
  },
  {
   "cell_type": "markdown",
   "metadata": {},
   "source": [
    "#### 2016W2 final\n",
    "\n",
    "Name an advantage and a disadvantage of selecting features based on small regression weights (with L2 regularization) instead of selecting features with \"search and score\" (using L0 regularization and validation error)."
   ]
  },
  {
   "cell_type": "markdown",
   "metadata": {},
   "source": [
    "<div class=\"alert alert-block alert-success\">\n",
    "\n",
    "- Advantage: Search and score is slow.\n",
    "\n",
    "- Disadvantage: Not realiable for a bunch of colinear features.\n",
    "\n",
    "</div>"
   ]
  },
  {
   "cell_type": "markdown",
   "metadata": {},
   "source": [
    "#### 2018W1 final\n",
    "\n",
    "![](img/L16/matching2_top.png)\n",
    "\n",
    "![](img/L16/matching2_bottom.png)"
   ]
  },
  {
   "cell_type": "markdown",
   "metadata": {},
   "source": [
    "Note: we haven't studied kernels yet, but just replace the word \"kernel\" with \"feature\" and the question works."
   ]
  },
  {
   "cell_type": "markdown",
   "metadata": {},
   "source": [
    "<div class=\"alert alert-block alert-success\">\n",
    "\n",
    "\n",
    "\n",
    "</div>"
   ]
  }
 ],
 "metadata": {
  "kernelspec": {
   "display_name": "Python 3",
   "language": "python",
   "name": "python3"
  },
  "language_info": {
   "codemirror_mode": {
    "name": "ipython",
    "version": 3
   },
   "file_extension": ".py",
   "mimetype": "text/x-python",
   "name": "python",
   "nbconvert_exporter": "python",
   "pygments_lexer": "ipython3",
   "version": "3.8.1"
  }
 },
 "nbformat": 4,
 "nbformat_minor": 4
}
