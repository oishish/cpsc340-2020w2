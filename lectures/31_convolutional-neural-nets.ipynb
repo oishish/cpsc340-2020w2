{
 "cells": [
  {
   "cell_type": "markdown",
   "metadata": {},
   "source": [
    "## CPSC 340 Lecture 31: convolutional neural networks\n",
    "\n",
    "This notebook is for the in-class activities. It assumes you have already watched the [associated video](https://www.youtube.com/watch?v=qb01ggeiT_g&list=PLWmXHcz_53Q02ZLeAxigki1JZFfCO6M-b&index=31)."
   ]
  },
  {
   "cell_type": "markdown",
   "metadata": {},
   "source": [
    "<font color='red'>**REMINDER TO START RECORDING**</font>\n",
    "\n",
    "Also, reminder to enable screen sharing for Participants."
   ]
  },
  {
   "cell_type": "markdown",
   "metadata": {},
   "source": [
    "## Pre-class music\n",
    "\n",
    "1. Lover Come Back by City and Colour\n",
    "2. I Don't Care by Ed Sheeran, Justin Bieber"
   ]
  },
  {
   "cell_type": "markdown",
   "metadata": {},
   "source": [
    "## Admin\n",
    "\n",
    "- There will not be a review session for the final, but we'll be reviewing in class today/Mon/Wed\n",
    "- Classes left (including today): 3"
   ]
  },
  {
   "cell_type": "markdown",
   "metadata": {},
   "source": [
    "## Final exam format - finalized\n",
    "\n",
    "- Final exam decision: all questions shown on one page & timed (\"Option 1\"), but with 100 minutes (2x the midterm) instead of the proposed 65 minutes. The target exam length is still the same as the midterm, so it should feel much less time-pressured.\n",
    "- Rationale:\n",
    "  - People like to go back and check their work.\n",
    "  - People feel less motivated to study with no time limit.\n",
    "  - People with more crowded exam schedules feel at more of a disadvantage with no time limit.\n",
    "  - People feel like the midterm was too time-limited. Furthermore parsing the questions takes longer for certain students like non-native English speakers.\n",
    "- Cheating is slightly easier with 100 minutes than 65 minutes, but it's worth it.\n",
    "- As a reminder, **there will also be a coding portion** with no time limit, to be submitted on Gradescope (like an assignment coding question)."
   ]
  },
  {
   "cell_type": "markdown",
   "metadata": {},
   "source": [
    "## Video chapters\n",
    "\n",
    "- recap\n",
    "- 2D convolutions demo\n",
    "- pre-trained CNN demo\n",
    "- CNNs intro\n",
    "- convolution-based features\n",
    "- convolution as matrix multiplication\n",
    "- motivation for CNNs\n",
    "- CNN layer types\n",
    "- counting parameters \n",
    "- summary\n"
   ]
  },
  {
   "cell_type": "markdown",
   "metadata": {},
   "source": [
    "## Old exam questions - CNNs"
   ]
  },
  {
   "cell_type": "markdown",
   "metadata": {},
   "source": [
    "#### 2016W2 final\n",
    "\n",
    "What is the motivation for convolutional neural networks? In other words, what makes them better than fully-connected neural networks for certain tasks like image classification?"
   ]
  },
  {
   "cell_type": "code",
   "execution_count": null,
   "metadata": {},
   "outputs": [],
   "source": []
  },
  {
   "cell_type": "markdown",
   "metadata": {},
   "source": [
    "## Old exam questions - general review"
   ]
  },
  {
   "cell_type": "markdown",
   "metadata": {},
   "source": [
    "#### 2018W1 final\n",
    "\n",
    "Select all that apply:\n",
    "\n",
    "![](img/review/sup.png)\n",
    "\n"
   ]
  },
  {
   "cell_type": "markdown",
   "metadata": {},
   "source": [
    "**Mike's answer:** i, ii, v, vii"
   ]
  },
  {
   "cell_type": "markdown",
   "metadata": {},
   "source": [
    "Select all that apply:\n",
    "\n",
    "![](img/review/param.png)"
   ]
  },
  {
   "cell_type": "markdown",
   "metadata": {},
   "source": [
    "**Mike's answer:** ii, iv, vi"
   ]
  },
  {
   "cell_type": "code",
   "execution_count": null,
   "metadata": {},
   "outputs": [],
   "source": []
  },
  {
   "cell_type": "markdown",
   "metadata": {},
   "source": [
    "#### 2016W2 final\n",
    "\n",
    "![](img/review/matching_top.png)\n",
    "\n",
    "![](img/review/matching_bottom.png)"
   ]
  },
  {
   "cell_type": "code",
   "execution_count": null,
   "metadata": {},
   "outputs": [],
   "source": []
  },
  {
   "cell_type": "code",
   "execution_count": null,
   "metadata": {},
   "outputs": [],
   "source": []
  }
 ],
 "metadata": {
  "kernelspec": {
   "display_name": "Python 3",
   "language": "python",
   "name": "python3"
  },
  "language_info": {
   "codemirror_mode": {
    "name": "ipython",
    "version": 3
   },
   "file_extension": ".py",
   "mimetype": "text/x-python",
   "name": "python",
   "nbconvert_exporter": "python",
   "pygments_lexer": "ipython3",
   "version": "3.8.5"
  }
 },
 "nbformat": 4,
 "nbformat_minor": 4
}
