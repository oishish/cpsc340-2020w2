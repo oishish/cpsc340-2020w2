{
 "cells": [
  {
   "cell_type": "markdown",
   "metadata": {},
   "source": [
    "## CPSC 340 Lecture 28: recommender systems\n",
    "\n",
    "This notebook is for the in-class activities. It assumes you have already watched the [associated video](https://www.youtube.com/watch?v=mBFChbO-SNI&list=PLWmXHcz_53Q02ZLeAxigki1JZFfCO6M-b&index=28)."
   ]
  },
  {
   "cell_type": "markdown",
   "metadata": {},
   "source": [
    "<font color='red'>**REMINDER TO START RECORDING**</font>\n",
    "\n",
    "Also, reminder to enable screen sharing for Participants."
   ]
  },
  {
   "cell_type": "markdown",
   "metadata": {},
   "source": [
    "## Pre-class music\n",
    "\n"
   ]
  },
  {
   "cell_type": "markdown",
   "metadata": {},
   "source": [
    "1. Demons by Imagine Dragons\n",
    "2. Mamma Mia by ABBA"
   ]
  },
  {
   "cell_type": "markdown",
   "metadata": {},
   "source": [
    "## Admin\n",
    "\n",
    "- a6 will be released soon, likely tomorrow\n",
    "- more info on the final exam coming later this week (hopefully)\n",
    "- next class: we start neural networks (aka deep learning), the last topic of the course\n",
    "- Classes remaining: 6"
   ]
  },
  {
   "cell_type": "markdown",
   "metadata": {},
   "source": [
    "## Video chapters\n",
    "\n",
    "- finding similar products\n",
    "- cosine similarity\n",
    "- nearest neighbours cost\n",
    "- recommender systems intro\n",
    "- Netflix Prize\n",
    "- collaborative filtering\n",
    "- recommender system challenges\n",
    "- supervised recommenders\n",
    "- association rules (bonus)\n",
    "- summary"
   ]
  },
  {
   "cell_type": "markdown",
   "metadata": {},
   "source": [
    "Bonus lecture on finding similar items and association rules: https://www.cs.ubc.ca/~schmidtm/Courses/340-F19/L11.pdf"
   ]
  },
  {
   "cell_type": "markdown",
   "metadata": {},
   "source": [
    "## Additional comments\n",
    "\n",
    "- Unsupervised KNN also covered in CPSC 330\n",
    "- Finding movies similar to movies vs. finding movies for users\n",
    "- Collaborative filtering is similar to PCA in terms of the math, but very different intuitively/practically. Discussed in video [here](https://youtu.be/mBFChbO-SNI?t=1392).\n"
   ]
  },
  {
   "cell_type": "markdown",
   "metadata": {},
   "source": [
    "## Old exam questions"
   ]
  },
  {
   "cell_type": "markdown",
   "metadata": {},
   "source": [
    "#### 2016W2\n",
    "\n",
    "Name an advantage and a disadvantage of using the unsupervised approach (\"collaborative filtering\") instead of supervised learning (\"content-based filtering\") for building a movie recommender system."
   ]
  },
  {
   "cell_type": "markdown",
   "metadata": {},
   "source": [
    "<div class=\"alert alert-block alert-success\">\n",
    "    \n",
    "**Ad**: Collaborative filtering does not require any _more_ information then the ratings of the user and other users. Rather than content-based which requires more feature info.\n",
    "    \n",
    "**Disad**: Don't get to use feature information on your movie to help make predictions. Doesn't work for new things.\n",
    "    \n",
    "\n",
    "</div>"
   ]
  },
  {
   "cell_type": "markdown",
   "metadata": {},
   "source": [
    "## True/False questions\n",
    "\n",
    "With a slightly different format: is the statement true about collaborative filtering? Content-based filtering? Both? Neither?\n",
    "\n",
    "1. This method could use movie titles/genres to improve prediction.\n",
    "2. This method struggles with new users who haven't rated anything.\n",
    "3. This method would likely benefit from using regularization.\n",
    "4. One could measure the validation performance of this method by withholding some ratings from the ratings matrix."
   ]
  },
  {
   "cell_type": "markdown",
   "metadata": {},
   "source": [
    "<div class=\"alert alert-block alert-success\">\n",
    "    \n",
    "1. Content-based only.\n",
    "    \n",
    "2. Collaborative only.\n",
    "    \n",
    "3. Both.\n",
    "    \n",
    "4. Both.\n",
    "    \n",
    "</div>"
   ]
  },
  {
   "cell_type": "markdown",
   "metadata": {},
   "source": [
    "## Student questions\n",
    "\n",
    "https://edstem.org/us/courses/3226/discussion/335339"
   ]
  },
  {
   "cell_type": "markdown",
   "metadata": {},
   "source": [
    "## Other practice questions\n",
    "\n",
    "- Is collaborative filtering more likely to recommend movies with high ratings than low ratings?\n",
    "- Is collaborative filtering more likely to recommend movies with many ratings than few ratings?"
   ]
  },
  {
   "cell_type": "markdown",
   "metadata": {},
   "source": [
    "<div class=\"alert alert-block alert-success\">\n",
    "    \n",
    "\n",
    "    \n",
    "</div>"
   ]
  }
 ],
 "metadata": {
  "kernelspec": {
   "display_name": "Python 3",
   "language": "python",
   "name": "python3"
  },
  "language_info": {
   "codemirror_mode": {
    "name": "ipython",
    "version": 3
   },
   "file_extension": ".py",
   "mimetype": "text/x-python",
   "name": "python",
   "nbconvert_exporter": "python",
   "pygments_lexer": "ipython3",
   "version": "3.7.6"
  }
 },
 "nbformat": 4,
 "nbformat_minor": 4
}
