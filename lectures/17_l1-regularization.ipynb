{
 "cells": [
  {
   "cell_type": "markdown",
   "metadata": {},
   "source": [
    "## CPSC 340 Lecture 17: L1 regularization\n",
    "\n",
    "This notebook is for the in-class activities. It assumes you have already watched the [associated video](https://www.youtube.com/watch?v=tsWfLJVzp-g&list=PLWmXHcz_53Q02ZLeAxigki1JZFfCO6M-b&index=16)."
   ]
  },
  {
   "cell_type": "markdown",
   "metadata": {},
   "source": [
    "<font color='red'>**REMINDER TO START RECORDING**</font>\n",
    "\n",
    "Also, reminder to enable screen sharing for Participants."
   ]
  },
  {
   "cell_type": "markdown",
   "metadata": {},
   "source": [
    "## Pre-class music\n",
    "\n"
   ]
  },
  {
   "cell_type": "markdown",
   "metadata": {},
   "source": [
    "1. Cry for me by Twice\n",
    "2. La La Lost You by 88rising, NIKI "
   ]
  },
  {
   "cell_type": "markdown",
   "metadata": {},
   "source": [
    "## Admin\n",
    "\n",
    "- a4 due March 10"
   ]
  },
  {
   "cell_type": "markdown",
   "metadata": {},
   "source": [
    "## Midterm info\n",
    "\n",
    "- In class on Friday, Feb 26\n",
    "- On Canvas, 50 minutes in the window of 4:00-4:55pm\n",
    "- Open book\n",
    "- No communication with others\n",
    "- No invigilation - *you do not need to join the Zoom meeting*\n",
    "- Mix of multiple choice and short answer.\n",
    "- Any clarifications or announcements will be made in a dedicated Ed thread: https://edstem.org/us/courses/3226/discussion/271610\n",
    "- Covers lectures 2-14, assignments 1-3\n",
    "- Last Friday's material, and today/Wed not covered (but very important!!)\n",
    "- Old exams available on Canvas under Files\n",
    "  - Note that the timing (and thus coverage) of the midterm varies from year to year"
   ]
  },
  {
   "cell_type": "markdown",
   "metadata": {},
   "source": [
    "## Academic integrity discussion\n",
    "\n",
    "-\n"
   ]
  },
  {
   "cell_type": "markdown",
   "metadata": {},
   "source": [
    "## Video chapters\n",
    "\n",
    "- L2 regularization recap\n",
    "- feature scaling\n",
    "- scaling the regression target\n",
    "- revisiting RBFs \n",
    "- hyperparameter optimization\n",
    "- feature selection recap\n",
    "- L1 regularization\n",
    "- sparsity of coefficients\n",
    "- L1 vs. L2 regularization\n",
    "- L1 loss vs. L1 regularization\n",
    "- summary"
   ]
  },
  {
   "cell_type": "markdown",
   "metadata": {},
   "source": [
    "## Old exam questions\n",
    "\n",
    "We'll first finish off the remaining questions on L2 regularization, which are also relevant to L1."
   ]
  },
  {
   "cell_type": "markdown",
   "metadata": {},
   "source": [
    "#### 2016W2 final\n",
    "\n",
    "Name an advantage and a disadvantage of using L1-regularization instead of L2-regularization for linear regression."
   ]
  },
  {
   "cell_type": "markdown",
   "metadata": {},
   "source": [
    "**Mike's answers:**\n",
    "\n",
    "- Advantage: It \"does feature selection\" / gives sparse w / gives you w with some entries exactly zero.\n",
    "- Disadvantage: Harder to optimize (can't use normal equations, not smooth)"
   ]
  },
  {
   "cell_type": "markdown",
   "metadata": {},
   "source": [
    "## Other questions\n",
    "\n",
    "Consider the following two _regularization path_ diagrams:\n",
    "\n",
    "<img src=\"img/L17/regpathA.png\" style=\"width: 400px;\"/>\n",
    "\n",
    "<img src=\"img/L17/regpathB.png\" style=\"width: 400px;\"/>\n",
    "\n",
    "Which one is depicting L1 regularization and which one is depicting L2 regulatization? Briefly justify your answer."
   ]
  },
  {
   "cell_type": "markdown",
   "metadata": {},
   "source": [
    "**Mike's answer:** Top is L2 (weights are gradually approaching zero), bottom is L1 (weights are exactly zero)."
   ]
  },
  {
   "cell_type": "code",
   "execution_count": null,
   "metadata": {},
   "outputs": [],
   "source": []
  },
  {
   "cell_type": "code",
   "execution_count": null,
   "metadata": {},
   "outputs": [],
   "source": []
  },
  {
   "cell_type": "code",
   "execution_count": null,
   "metadata": {},
   "outputs": [],
   "source": []
  },
  {
   "cell_type": "code",
   "execution_count": null,
   "metadata": {},
   "outputs": [],
   "source": []
  },
  {
   "cell_type": "code",
   "execution_count": null,
   "metadata": {},
   "outputs": [],
   "source": []
  },
  {
   "cell_type": "markdown",
   "metadata": {},
   "source": [
    "## True/False questions\n",
    "\n",
    "The questions below refer to L1 regularization.\n",
    "\n",
    "1. For any value of $\\lambda$, some of the $w$-values will be $0$.\n",
    "2. For $\\lambda \\rightarrow \\infty$ all of the $w$-values will be zero.\n",
    "3. All the weights will be smaller than their corresponding weights using L2 regularization, because you're not squaring them in the loss.\n",
    "4. When using gradient descent to solve L1-regularized least squares, we should smooth the absolute value function by approximating the max function with log-sum-exp like we do for regression with the L1 loss."
   ]
  },
  {
   "cell_type": "markdown",
   "metadata": {},
   "source": [
    "**Mike's answers:**\n",
    "\n",
    "1. False\n",
    "2. True\n",
    "3. False\n",
    "4. False -> we don't want to smooth the \"corner\" -> the corner is the whole point. "
   ]
  },
  {
   "cell_type": "code",
   "execution_count": null,
   "metadata": {},
   "outputs": [],
   "source": []
  },
  {
   "cell_type": "code",
   "execution_count": null,
   "metadata": {},
   "outputs": [],
   "source": []
  },
  {
   "cell_type": "markdown",
   "metadata": {},
   "source": [
    "## Loss funciton roadmap for the rest of the course"
   ]
  },
  {
   "cell_type": "markdown",
   "metadata": {},
   "source": [
    "\n",
    "![](img/loss_venn2.jpg)"
   ]
  },
  {
   "cell_type": "code",
   "execution_count": null,
   "metadata": {},
   "outputs": [],
   "source": []
  }
 ],
 "metadata": {
  "kernelspec": {
   "display_name": "Python 3",
   "language": "python",
   "name": "python3"
  },
  "language_info": {
   "codemirror_mode": {
    "name": "ipython",
    "version": 3
   },
   "file_extension": ".py",
   "mimetype": "text/x-python",
   "name": "python",
   "nbconvert_exporter": "python",
   "pygments_lexer": "ipython3",
   "version": "3.9.1"
  }
 },
 "nbformat": 4,
 "nbformat_minor": 4
}
