{
 "cells": [
  {
   "cell_type": "markdown",
   "metadata": {},
   "source": [
    "## CPSC 340 Lecture 23: MLE & MAP\n",
    "\n",
    "This notebook is for the in-class activities. It assumes you have already watched the [associated video](https://www.youtube.com/watch?v=y7KJcCltR5Y&list=PLWmXHcz_53Q02ZLeAxigki1JZFfCO6M-b&index=23)."
   ]
  },
  {
   "cell_type": "markdown",
   "metadata": {},
   "source": [
    "<font color='red'>**REMINDER TO START RECORDING**</font>\n",
    "\n",
    "Also, reminder to enable screen sharing for Participants."
   ]
  },
  {
   "cell_type": "markdown",
   "metadata": {},
   "source": [
    "## Pre-class music\n",
    "\n"
   ]
  },
  {
   "cell_type": "markdown",
   "metadata": {},
   "source": [
    "1. Heroes by David Bowie"
   ]
  },
  {
   "cell_type": "markdown",
   "metadata": {},
   "source": [
    "## Admin\n",
    "\n",
    "- Final exam timing: https://edstem.org/us/courses/3226/discussion/312098\n",
    "  - You will have 48 hours from Mon Apr 19 at 9:45am to Wed Apr 21 at 9:45am to complete the exam. \n",
    "- My office hour is rescheduled this week.\n",
    "  - To Thursday at 12:30pm"
   ]
  },
  {
   "cell_type": "markdown",
   "metadata": {},
   "source": [
    "## Video chapters\n",
    "\n",
    "- generative vs. discriminative models\n",
    "- logistic regression revisited \n",
    "- likelihood\n",
    "- maximum likelihood estimation\n",
    "- logistic regression as MLE\n",
    "- least squares as MLE\n",
    "- loss functions and MLE\n",
    "- maximum a posteriori\n",
    "- MAP and regularization\n",
    "- summary"
   ]
  },
  {
   "cell_type": "markdown",
   "metadata": {},
   "source": [
    "## The unreadable board stuff\n",
    "\n",
    "- Main idea: short-tailed distributions \"can't believe\" extreme values, but long-tailed distributions can. This gives rise to robust regression."
   ]
  },
  {
   "cell_type": "markdown",
   "metadata": {},
   "source": [
    "## Old exam questions\n"
   ]
  },
  {
   "cell_type": "markdown",
   "metadata": {},
   "source": [
    "#### 2016W2\n",
    "\n",
    "![](img/L23/2016W2.png)"
   ]
  },
  {
   "cell_type": "markdown",
   "metadata": {},
   "source": [
    "#### 2017W1\n",
    "\n",
    "![](img/L23/2017W1parta.png)"
   ]
  },
  {
   "cell_type": "markdown",
   "metadata": {},
   "source": [
    "![](img/L23/2017W1partb.png)"
   ]
  },
  {
   "cell_type": "markdown",
   "metadata": {},
   "source": [
    "#### 2018W1\n",
    "\n",
    "![](img/L23/mlemap.png)"
   ]
  },
  {
   "cell_type": "markdown",
   "metadata": {},
   "source": [
    "#### 2016W1\n",
    "\n",
    "![](img/L23/2016w1.png)"
   ]
  },
  {
   "cell_type": "code",
   "execution_count": null,
   "metadata": {},
   "outputs": [],
   "source": []
  }
 ],
 "metadata": {
  "kernelspec": {
   "display_name": "Python 3",
   "language": "python",
   "name": "python3"
  },
  "language_info": {
   "codemirror_mode": {
    "name": "ipython",
    "version": 3
   },
   "file_extension": ".py",
   "mimetype": "text/x-python",
   "name": "python",
   "nbconvert_exporter": "python",
   "pygments_lexer": "ipython3",
   "version": "3.8.5"
  }
 },
 "nbformat": 4,
 "nbformat_minor": 4
}
