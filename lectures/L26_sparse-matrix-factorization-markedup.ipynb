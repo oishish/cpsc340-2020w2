{
 "cells": [
  {
   "cell_type": "markdown",
   "metadata": {},
   "source": [
    "## CPSC 340 Lecture 26: sparse matrix factorization\n",
    "\n",
    "This notebook is for the in-class activities. It assumes you have already watched the [associated video](https://www.youtube.com/watch?v=ghLOWBlzWyw&list=PLWmXHcz_53Q02ZLeAxigki1JZFfCO6M-b&index=26)."
   ]
  },
  {
   "cell_type": "markdown",
   "metadata": {},
   "source": [
    "<font color='red'>**REMINDER TO START RECORDING**</font>\n",
    "\n",
    "Also, reminder to enable screen sharing for Participants."
   ]
  },
  {
   "cell_type": "markdown",
   "metadata": {},
   "source": [
    "## Pre-class music\n",
    "\n"
   ]
  },
  {
   "cell_type": "markdown",
   "metadata": {},
   "source": [
    "1. You Rock My World by Michael Jackson\n",
    "2. Summer Paradise by Simple Plan"
   ]
  },
  {
   "cell_type": "markdown",
   "metadata": {},
   "source": [
    "## Admin\n",
    "\n",
    "- a5 due tonight\n",
    "- a6 will be the last assignment\n",
    "- more info on the final exam coming next week (hopefully)"
   ]
  },
  {
   "cell_type": "markdown",
   "metadata": {},
   "source": [
    "## Video chapters\n",
    "\n",
    "- PCA recap\n",
    "- eigenfaces\n",
    "- VQ vs. PCA vs. NMF\n",
    "- non-negative least squares\n",
    "- sparsity and non-negativity\n",
    "- projected gradient\n",
    "- NMF for basketball shots\n",
    "- topic modelling\n",
    "- regularized matrix factorization\n",
    "- sparse matrix factorization\n",
    "- why sparsity? \n",
    "- summary"
   ]
  },
  {
   "cell_type": "markdown",
   "metadata": {},
   "source": [
    "## Old exam questions\n"
   ]
  },
  {
   "cell_type": "markdown",
   "metadata": {},
   "source": [
    "#### 2016W1 final\n",
    "\n",
    "![](img/L26/2016W1.png)"
   ]
  },
  {
   "cell_type": "markdown",
   "metadata": {},
   "source": [
    "<div class=\"alert alert-block alert-success\">\n",
    "    \n",
    "(a) This is expected. The only degenerate solution to PCA with SVD is negative the original vectors. Expect random variation between those two solutions.\n",
    "    \n",
    "(b) None. It will just cause numerical instability as it pushes W be as small as possible and will simply scale Z accordingly. \n",
    "    \n",
    "(c) Now there will be an affect on the fundamental trade off. We will be actually pushing W, Z to be smaller and as such, lower approx error.\n",
    "    \n",
    "(d) A little different from (b). This would favor more 0-pt W values, can't scale Z to deal with 0s in W. So this _will_ lower approx error.\n",
    "    \n",
    "</div>"
   ]
  },
  {
   "cell_type": "markdown",
   "metadata": {},
   "source": [
    "#### 2016W2 final"
   ]
  },
  {
   "cell_type": "markdown",
   "metadata": {},
   "source": [
    "![](img/L26/intro.png)"
   ]
  },
  {
   "cell_type": "markdown",
   "metadata": {},
   "source": [
    "![](img/L26/a.png)\n",
    "![](img/L26/b.png)\n",
    "![](img/L26/c.png)\n",
    "![](img/L26/d.png)"
   ]
  },
  {
   "cell_type": "markdown",
   "metadata": {},
   "source": [
    "<div class=\"alert alert-block alert-success\">\n",
    "    \n",
    "(a) NMF. Right ratios (ish) and no negatives.\n",
    "    \n",
    "(b) Wrong ratios. None.\n",
    "    \n",
    "(c) Orthogonal, orthonormal $\\implies$ PCA by SVD\n",
    "    \n",
    "(d) By (a), (b) and (c) this must be Sparse PCA\n",
    "    \n",
    "    \n",
    "</div>"
   ]
  },
  {
   "cell_type": "markdown",
   "metadata": {},
   "source": [
    "#### 2018W1 final\n",
    "\n",
    "For the same $k$, do you expect the resulting loss from running NMF to be lower, higher, or the same as the loss from running PCA on the same data? Briefly justify your answer."
   ]
  },
  {
   "cell_type": "markdown",
   "metadata": {},
   "source": [
    "<div class=\"alert alert-block alert-success\">\n",
    "    \n",
    "NMF loss will of course be the same or (much more likely) higher. More constrictions $\\implies$ higher loss. \n",
    "    \n",
    "</div>"
   ]
  }
 ],
 "metadata": {
  "kernelspec": {
   "display_name": "Python 3",
   "language": "python",
   "name": "python3"
  },
  "language_info": {
   "codemirror_mode": {
    "name": "ipython",
    "version": 3
   },
   "file_extension": ".py",
   "mimetype": "text/x-python",
   "name": "python",
   "nbconvert_exporter": "python",
   "pygments_lexer": "ipython3",
   "version": "3.7.6"
  }
 },
 "nbformat": 4,
 "nbformat_minor": 4
}
