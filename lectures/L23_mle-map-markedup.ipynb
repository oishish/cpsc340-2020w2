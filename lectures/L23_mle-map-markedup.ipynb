{
 "cells": [
  {
   "cell_type": "markdown",
   "metadata": {},
   "source": [
    "## CPSC 340 Lecture 23: MLE & MAP\n",
    "\n",
    "This notebook is for the in-class activities. It assumes you have already watched the [associated video](https://www.youtube.com/watch?v=y7KJcCltR5Y&list=PLWmXHcz_53Q02ZLeAxigki1JZFfCO6M-b&index=23)."
   ]
  },
  {
   "cell_type": "markdown",
   "metadata": {},
   "source": [
    "<font color='red'>**REMINDER TO START RECORDING**</font>\n",
    "\n",
    "Also, reminder to enable screen sharing for Participants."
   ]
  },
  {
   "cell_type": "markdown",
   "metadata": {},
   "source": [
    "## Pre-class music\n",
    "\n"
   ]
  },
  {
   "cell_type": "markdown",
   "metadata": {},
   "source": [
    "1. Heroes by David Bowie\n",
    "2. You've Got a Friend in Me (from Toy Story) by Randy Newman"
   ]
  },
  {
   "cell_type": "markdown",
   "metadata": {},
   "source": [
    "## Admin\n",
    "\n",
    "- Final exam timing: https://edstem.org/us/courses/3226/discussion/312098\n",
    "  - You will have 48 hours from Mon Apr 19 at 9:45am to Wed Apr 21 at 9:45am to complete the exam. \n",
    "- My office hour is rescheduled this week.\n",
    "  - Moved to Thursday at 12:30pm"
   ]
  },
  {
   "cell_type": "markdown",
   "metadata": {},
   "source": [
    "## Video chapters\n",
    "\n",
    "- generative vs. discriminative models\n",
    "- logistic regression revisited \n",
    "- likelihood\n",
    "- maximum likelihood estimation\n",
    "- logistic regression as MLE\n",
    "- least squares as MLE\n",
    "- loss functions and MLE\n",
    "- maximum a posteriori\n",
    "- MAP and regularization\n",
    "- summary"
   ]
  },
  {
   "cell_type": "markdown",
   "metadata": {},
   "source": [
    "## The unreadable board stuff\n",
    "\n",
    "- Main idea: short-tailed distributions \"can't believe\" extreme values, but long-tailed distributions can. This gives rise to robust regression."
   ]
  },
  {
   "cell_type": "markdown",
   "metadata": {},
   "source": [
    "## Old exam questions\n"
   ]
  },
  {
   "cell_type": "markdown",
   "metadata": {},
   "source": [
    "#### 2016W2\n",
    "\n",
    "![](img/L23/2016W2.png)"
   ]
  },
  {
   "cell_type": "markdown",
   "metadata": {},
   "source": [
    "<div class=\"alert alert-block alert-success\">\n",
    "    \n",
    "(a) $p(w_j) = e^{-\\lambda |w_j|^{1/2}}$\n",
    "    \n",
    "</div>"
   ]
  },
  {
   "cell_type": "markdown",
   "metadata": {},
   "source": [
    "#### 2017W1\n",
    "\n",
    "![](img/L23/2017W1parta.png)"
   ]
  },
  {
   "cell_type": "markdown",
   "metadata": {},
   "source": [
    "<div class=\"alert alert-block alert-success\">\n",
    "    \n",
    "$$ f(w_j) = \\sum_i \\frac{\\eta + 1}{2} \\log\\left(1 + \\frac{(w^Tx_i - y_i)^2}{\\eta}\\right)+ \\lambda \\sum_j |w_j| $$\n",
    "    \n",
    "</div>"
   ]
  },
  {
   "cell_type": "markdown",
   "metadata": {},
   "source": [
    "![](img/L23/2017W1partb.png)"
   ]
  },
  {
   "cell_type": "markdown",
   "metadata": {},
   "source": [
    "<div class=\"alert alert-block alert-success\">\n",
    "    \n",
    "- More robust than least squares since the squared term is in a log.\n",
    "- True. Prior belief is that $w_j = 0$\n",
    "- Yes, log(convex) is convex. Sum of convex is convex?\n",
    "  \n",
    "</div>"
   ]
  },
  {
   "cell_type": "markdown",
   "metadata": {},
   "source": [
    "#### 2018W1\n",
    "\n",
    "![](img/L23/mlemap.png)"
   ]
  },
  {
   "cell_type": "markdown",
   "metadata": {},
   "source": [
    "<div class=\"alert alert-block alert-success\">\n",
    "    \n",
    "\n",
    "    \n",
    "</div>"
   ]
  },
  {
   "cell_type": "markdown",
   "metadata": {},
   "source": [
    "#### 2016W1\n",
    "\n",
    "![](img/L23/2016w1.png)"
   ]
  },
  {
   "cell_type": "markdown",
   "metadata": {},
   "source": [
    "<div class=\"alert alert-block alert-success\">\n",
    "    \n",
    "\n",
    "    \n",
    "</div>"
   ]
  }
 ],
 "metadata": {
  "kernelspec": {
   "display_name": "Python 3",
   "language": "python",
   "name": "python3"
  },
  "language_info": {
   "codemirror_mode": {
    "name": "ipython",
    "version": 3
   },
   "file_extension": ".py",
   "mimetype": "text/x-python",
   "name": "python",
   "nbconvert_exporter": "python",
   "pygments_lexer": "ipython3",
   "version": "3.7.6"
  }
 },
 "nbformat": 4,
 "nbformat_minor": 4
}
