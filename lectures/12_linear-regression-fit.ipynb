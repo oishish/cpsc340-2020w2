{
 "cells": [
  {
   "cell_type": "markdown",
   "metadata": {},
   "source": [
    "## CPSC 340 Lecture 12: linear regression: `fit`\n",
    "\n",
    "This notebook is for the in-class activities. It assumes you have already watched the [associated video](https://www.youtube.com/watch?v=0tIPRjdrsho&list=PLWmXHcz_53Q02ZLeAxigki1JZFfCO6M-b&index=11)."
   ]
  },
  {
   "cell_type": "markdown",
   "metadata": {},
   "source": [
    "<font color='red'>**REMINDER TO START RECORDING**</font>\n",
    "\n",
    "Also, reminder to enable screen sharing for Participants."
   ]
  },
  {
   "cell_type": "markdown",
   "metadata": {},
   "source": [
    "## Pre-class music (attempt #3)\n",
    "\n",
    "1. Vienna by Billy Joel\n",
    "2. Lover Boy by Phum Viphurit"
   ]
  },
  {
   "cell_type": "markdown",
   "metadata": {},
   "source": [
    "## Admin\n",
    "\n",
    "- a2 solution posted\n",
    "- a3 posted\n",
    "- My office hour moved from 12pm to 12:30pm next week only\n",
    "- Countdown to reading week: 4 more classes"
   ]
  },
  {
   "cell_type": "markdown",
   "metadata": {},
   "source": [
    "## Video chapters\n",
    "\n",
    "- critical points in d dimensions\n",
    "- computing the partial derivatives\n",
    "- matrix/norm notation\n",
    "- matrix algebra review\n",
    "- gradient in matrix notation\n",
    "- normal equations\n",
    "- incorrect solutions to least squares\n",
    "- least squares issues\n",
    "- computational cost\n",
    "- non-uniqueness\n",
    "- convexity of ordinary least squares\n",
    "- summary"
   ]
  },
  {
   "cell_type": "markdown",
   "metadata": {},
   "source": [
    "## Old exam questions"
   ]
  },
  {
   "cell_type": "markdown",
   "metadata": {},
   "source": [
    "#### From 2016W2 midterm\n",
    "\n",
    "![](img/L11/weights.png)"
   ]
  },
  {
   "cell_type": "markdown",
   "metadata": {},
   "source": [
    "Note: there is a very similar question in the 2017S1 midterm."
   ]
  },
  {
   "cell_type": "markdown",
   "metadata": {},
   "source": [
    "**Mike's answer:** $w_2$. We can eliminate $w_3$ and $w_4$ because they multiply big numbers by big numbers to get predictions that are way too big for the targets. $w_2$ is better than $w_1$ because the signs of the targets are mostly aligned with the signs of the feature 1 vales."
   ]
  },
  {
   "cell_type": "code",
   "execution_count": null,
   "metadata": {},
   "outputs": [],
   "source": []
  },
  {
   "cell_type": "markdown",
   "metadata": {},
   "source": [
    "#### Also from the 2016W2 midterm\n",
    "\n",
    "![](img/L12/lsqloss.png)"
   ]
  },
  {
   "cell_type": "markdown",
   "metadata": {},
   "source": [
    "**Mike's answer:**\n",
    "\n",
    "- $X$: $n \\times d$\n",
    "- $w$: $d \\times 1$\n",
    "- $y$: $n \\times 1$\n",
    "- $x_i$: $d \\times 1$\n",
    "- $y_i$: scalar"
   ]
  },
  {
   "cell_type": "code",
   "execution_count": null,
   "metadata": {},
   "outputs": [],
   "source": []
  },
  {
   "cell_type": "markdown",
   "metadata": {},
   "source": [
    "#### From the 2017S1 midterm\n",
    "\n",
    "![](img/L12/partialderiv.png)"
   ]
  },
  {
   "cell_type": "markdown",
   "metadata": {},
   "source": [
    "**Mike's answer**:\n",
    "\n",
    "Recall that $\\nabla_w f(w)= X^TXw-X^Ty$"
   ]
  },
  {
   "cell_type": "markdown",
   "metadata": {},
   "source": [
    "The answer we're looking for is the first element of $X^Ty$ ?\n",
    "\n",
    "$X$ is $n\\times d$ so $X^T$ is $d\\times n$."
   ]
  },
  {
   "cell_type": "markdown",
   "metadata": {},
   "source": [
    "The 2nd term is $\\sum_{i=1}^n x_{i1}y_i$"
   ]
  },
  {
   "cell_type": "markdown",
   "metadata": {},
   "source": [
    "Define $\\hat{y}_i=w^Tx_i$"
   ]
  },
  {
   "cell_type": "markdown",
   "metadata": {},
   "source": [
    "The whole answer is\n",
    "\n",
    "$\\sum_{i=1}^n x_{i1}\\hat{y}_i$ - $\\sum_{i=1}^n x_{i1}y_i$\n",
    "\n",
    "(definitely skipped some steps here)."
   ]
  },
  {
   "cell_type": "markdown",
   "metadata": {},
   "source": [
    "#### From the 2017W2 midterm\n",
    "\n",
    "![](img/L11/lrprediction.png)\n",
    "\n",
    "![](img/L12/lrpredict2.png)"
   ]
  },
  {
   "cell_type": "markdown",
   "metadata": {},
   "source": [
    "**Mike's answer:** The first step is to recognize that $X^TXw-X^Ty$ is the gradient of the squared error loss. If this were the squared error and we minimized it, then the gradient would be 0 at the minimizer $w$. However, the gradient is not zero. So we must have been minimizing a different loss function."
   ]
  }
 ],
 "metadata": {
  "kernelspec": {
   "display_name": "Python 3",
   "language": "python",
   "name": "python3"
  },
  "language_info": {
   "codemirror_mode": {
    "name": "ipython",
    "version": 3
   },
   "file_extension": ".py",
   "mimetype": "text/x-python",
   "name": "python",
   "nbconvert_exporter": "python",
   "pygments_lexer": "ipython3",
   "version": "3.8.5"
  }
 },
 "nbformat": 4,
 "nbformat_minor": 4
}
