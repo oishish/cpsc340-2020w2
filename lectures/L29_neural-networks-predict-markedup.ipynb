{
 "cells": [
  {
   "cell_type": "markdown",
   "metadata": {},
   "source": [
    "## CPSC 340 Lecture 29: neural networks: `predict`\n",
    "\n",
    "This notebook is for the in-class activities. It assumes you have already watched the [associated video](https://www.youtube.com/watch?v=w60cKkCV_Qk&list=PLWmXHcz_53Q02ZLeAxigki1JZFfCO6M-b&index=29)."
   ]
  },
  {
   "cell_type": "markdown",
   "metadata": {},
   "source": [
    "<font color='red'>**REMINDER TO START RECORDING**</font>\n",
    "\n",
    "Also, reminder to enable screen sharing for Participants."
   ]
  },
  {
   "cell_type": "markdown",
   "metadata": {},
   "source": [
    "## Pre-class music\n",
    "\n",
    "1. Bohemian Rhapsody by Queen\n",
    "2. Lasso by Phoenix"
   ]
  },
  {
   "cell_type": "markdown",
   "metadata": {},
   "source": [
    "## Admin\n",
    "\n",
    "- [But what _is_ a Neural Network?](https://www.youtube.com/watch?v=aircAruvnKk&list=PLZHQObOWTQDNU6R1_67000Dx_ZCJB-3pi)\n",
    "- a5 solutions posted\n",
    "- a6 posted, due in 2 weeks (Apr 14)\n",
    "- No class on Friday, no class on Monday, due to holiday. Next class is in one week (Apr 7). \n",
    "- classes left (including today): 5"
   ]
  },
  {
   "cell_type": "markdown",
   "metadata": {},
   "source": [
    "## Final exam poll\n",
    "\n",
    "https://ubc.ca1.qualtrics.com/jfe/form/SV_8oIeygigRed5PJI"
   ]
  },
  {
   "cell_type": "markdown",
   "metadata": {},
   "source": [
    "## Video chapters\n",
    "\n",
    "- supervised learning roadmap\n",
    "- neural network notation\n",
    "- nonlinearity\n",
    "- neural networks\n",
    "- bias variables\n",
    "- a family of functions\n",
    "- simple NN code\n",
    "- counting parameters\n",
    "- demos & random weights\n",
    "- deep learning history\n",
    "- vocabulary\n",
    "- summary"
   ]
  },
  {
   "cell_type": "markdown",
   "metadata": {},
   "source": [
    "## True/False\n",
    "\n",
    "1. For (fully connected) neural networks, the number of parameters $\\geq$ the number of features.\n",
    "2. Any neural network with 3 hidden layers will have more parameters than any neural network with 2 hidden layers.\n",
    "3. Linear regression is a special case of a neural network."
   ]
  },
  {
   "cell_type": "markdown",
   "metadata": {},
   "source": [
    "<div class=\"alert alert-block alert-success\">\n",
    "    \n",
    "1. **True**. $d^2$ per layer?\n",
    "    \n",
    "2. **False**. Can have \"narrower\" hidden layers.\n",
    "\n",
    "3. **True** I guess, I don't like the phrasing. I think you can make linear regression out of a neural network.\n",
    "    \n",
    "</div>"
   ]
  },
  {
   "cell_type": "markdown",
   "metadata": {},
   "source": [
    "## More True/False\n",
    "\n",
    "4. Like linear regression or logistic regression, with neural networks we can interpret each feature's weight value as a measure of the feature's importance.\n",
    "5. With neural networks, we have a potentially large number of discrete hyperparamaters.\n",
    "6. With neural networks, we have a potentially large number of discrete parameters."
   ]
  },
  {
   "cell_type": "markdown",
   "metadata": {},
   "source": [
    "<div class=\"alert alert-block alert-success\">\n",
    "    \n",
    "  \n",
    "4. **False**. Feature could be very important to calculate the next node in the next hidden layer, but that does not necessarily mean that it will be important in the final result.\n",
    "  \n",
    "5. **True**. So many possible combinations of # of hidden layers, width of hidden layers, etc.\n",
    "    \n",
    "6. ~~**True**. So many weights!~~ _But they are continuous!_ so **False**\n",
    "    \n",
    "</div>"
   ]
  },
  {
   "cell_type": "markdown",
   "metadata": {},
   "source": [
    "## Old exam questions"
   ]
  },
  {
   "cell_type": "markdown",
   "metadata": {},
   "source": [
    "#### 2017W1 final\n",
    "\n",
    "Consider a deep neural network with 1 million hidden units. Is this a parametric or a non-parametric classifier?"
   ]
  },
  {
   "cell_type": "markdown",
   "metadata": {},
   "source": [
    "<div class=\"alert alert-block alert-success\">\n",
    "    \n",
    "Parametric. More data points will not increase the # of parameters in the model.\n",
    "    \n",
    "</div>"
   ]
  },
  {
   "cell_type": "markdown",
   "metadata": {},
   "source": [
    "#### 2016W2\n",
    "\n",
    "Consider a fully-connected neural network with layer sizes $(d, a, b, k)$. This means there are $d$ input features, two hidden layers of size $a$ and $b$ respectively, and then $k$ outputs. How many parameters does the model have?"
   ]
  },
  {
   "cell_type": "markdown",
   "metadata": {},
   "source": [
    "<div class=\"alert alert-block alert-success\">\n",
    "    \n",
    "Work backwards $bk$ for the final linear regression. $a \\to b$ makes another $ab$ parameters. $d \\to a$ another $da$ parameters. Including y-intercepts then we have $bk + ab + ad + a + b + k$\n",
    "    \n",
    "</div>"
   ]
  },
  {
   "cell_type": "markdown",
   "metadata": {},
   "source": [
    "## Student questions\n",
    "\n",
    "https://edstem.org/us/courses/3226/discussion/337930"
   ]
  }
 ],
 "metadata": {
  "kernelspec": {
   "display_name": "Python 3",
   "language": "python",
   "name": "python3"
  },
  "language_info": {
   "codemirror_mode": {
    "name": "ipython",
    "version": 3
   },
   "file_extension": ".py",
   "mimetype": "text/x-python",
   "name": "python",
   "nbconvert_exporter": "python",
   "pygments_lexer": "ipython3",
   "version": "3.7.6"
  }
 },
 "nbformat": 4,
 "nbformat_minor": 4
}
