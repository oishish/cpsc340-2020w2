{
 "cells": [
  {
   "cell_type": "markdown",
   "metadata": {},
   "source": [
    "## CPSC 340 Lecture 33: conclusion\n",
    "\n",
    "This notebook is for the in-class activities. It assumes you have already watched the [associated video](https://www.youtube.com/watch?v=_7zYxpzrKmQ&list=PLWmXHcz_53Q02ZLeAxigki1JZFfCO6M-b&index=33)."
   ]
  },
  {
   "cell_type": "markdown",
   "metadata": {},
   "source": [
    "<font color='red'>**REMINDER TO START RECORDING**</font>\n"
   ]
  },
  {
   "cell_type": "markdown",
   "metadata": {},
   "source": [
    "## Pre-class music\n",
    "\n"
   ]
  },
  {
   "cell_type": "markdown",
   "metadata": {},
   "source": [
    "## Admin\n",
    "\n",
    "- classes left (including today): 1 😢😌\n",
    "- Final exam Monday at 9:45am to Wednesday 9:45am\n",
    "  - Part of it will be on Canvas\n",
    "  - Part of it will follow the assignment workflow (posted on Canvas, submitted to Gradescope)\n",
    "  - Covers lectures 2-31, assignments 1-6\n",
    "- Revisit the 2nd half of the practice question from Monday"
   ]
  },
  {
   "cell_type": "code",
   "execution_count": null,
   "metadata": {},
   "outputs": [],
   "source": []
  },
  {
   "cell_type": "markdown",
   "metadata": {},
   "source": [
    "## Video chapters\n",
    "\n",
    "- admin\n",
    "- big ideas of the course\n",
    "- topics covered\n",
    "- topics not covered\n",
    "- CPSC 340 vs. 540\n",
    "- other ML-related courses\n",
    "- grad school advice\n",
    "- unsolicited life advice"
   ]
  },
  {
   "cell_type": "markdown",
   "metadata": {},
   "source": [
    "### Other courses\n",
    "\n",
    "#### CPSC 330\n",
    "\n",
    "- Designed by yours truly\n",
    "- Course materials at https://github.com/UBC-CS/cpsc330/\n",
    "- 330 vs. 340: https://github.com/UBC-CS/cpsc330/blob/master/docs/330_vs_340.md\n",
    "\n",
    "#### CPSC 440/540\n",
    "\n",
    "- Designed by Mark Schmidt\n",
    "- See current offering (this term): https://www.cs.ubc.ca/~schmidtm/Courses/440-W21/"
   ]
  },
  {
   "cell_type": "markdown",
   "metadata": {},
   "source": [
    "### Instructor/TA evaluations\n",
    "\n",
    "- [Reddit post on teaching evaluations](https://www.reddit.com/r/UBC/comments/k18qj7/teaching_evaluations_the_good_the_bad_and_the_ugly/)\n",
    "- [teaching evaluations on Canvas](https://canvas.ubc.ca/courses/58981/external_tools/4732)\n",
    "- Thank you to all the TAs!"
   ]
  },
  {
   "cell_type": "markdown",
   "metadata": {},
   "source": [
    "### Have I gained any wisdom since 2018?\n",
    "\n",
    "Probably not! But I have some new thoughts since then:\n",
    "\n",
    "- Thoughts on power imbalances\n",
    "- Thoughts on teaching\n",
    "- Thoughts on bad news & procrastination\n",
    "- Thoughts on privilege & the need for good grades\n",
    "- Thoughts on parenting, saying yes vs. no, and the inflection point"
   ]
  },
  {
   "cell_type": "markdown",
   "metadata": {},
   "source": [
    "### Open Q&A/AMA"
   ]
  },
  {
   "cell_type": "code",
   "execution_count": null,
   "metadata": {},
   "outputs": [],
   "source": []
  }
 ],
 "metadata": {
  "kernelspec": {
   "display_name": "Python 3",
   "language": "python",
   "name": "python3"
  },
  "language_info": {
   "codemirror_mode": {
    "name": "ipython",
    "version": 3
   },
   "file_extension": ".py",
   "mimetype": "text/x-python",
   "name": "python",
   "nbconvert_exporter": "python",
   "pygments_lexer": "ipython3",
   "version": "3.8.5"
  }
 },
 "nbformat": 4,
 "nbformat_minor": 4
}
