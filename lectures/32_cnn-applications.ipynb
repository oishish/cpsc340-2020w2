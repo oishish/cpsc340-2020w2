{
 "cells": [
  {
   "cell_type": "markdown",
   "metadata": {},
   "source": [
    "## CPSC 340 Lecture 32: CNN applications\n",
    "\n",
    "This notebook is for the in-class activities. It assumes you have already watched the [associated video](https://www.youtube.com/watch?v=6V48wFOWAS4&list=PLWmXHcz_53Q02ZLeAxigki1JZFfCO6M-b&index=32)."
   ]
  },
  {
   "cell_type": "markdown",
   "metadata": {},
   "source": [
    "<font color='red'>**REMINDER TO START RECORDING !!!!!!**</font>\n",
    "\n",
    "Also, reminder to enable screen sharing for Participants."
   ]
  },
  {
   "cell_type": "markdown",
   "metadata": {},
   "source": [
    "## Pre-class music\n",
    "\n",
    "1. Never Gonna Give You Up (aka the rickroll song) by Rick Astley\n",
    "2. Demons by Imagine Dragons (repeat from a recent class)"
   ]
  },
  {
   "cell_type": "markdown",
   "metadata": {},
   "source": [
    "## Admin\n",
    "\n",
    "- My office hours moved 30 min earlier tomorrow, to 11:30am-12:30pm instead of 12-1pm.\n",
    "- No Thu/Fri tutorials this week, but earlier one(s) should be recorded. \n",
    "- classes left (including today): 2"
   ]
  },
  {
   "cell_type": "markdown",
   "metadata": {},
   "source": [
    "## Video chapters\n",
    "\n",
    "- famous architectures\n",
    "- deep learning successes\n",
    "- deep learning vulnerabilities\n",
    "- beyond classification\n",
    "- inceptionism\n",
    "- style transfer\n",
    "- deep learning software\n",
    "- GPUs\n",
    "- keras demo\n",
    "- colab demo\n",
    "- summary"
   ]
  },
  {
   "cell_type": "markdown",
   "metadata": {},
   "source": [
    "## Comments on video\n",
    "\n",
    "- This is another lecture where progress is fast. \n",
    "- PyTorch is considered the best choice for deep learning software.\n",
    "  - 2018 slides say \"gaining a lot of popularity\" !\n",
    "  - Daniele will show a bit of PyTorch this week in tutorial.\n",
    "- Colab still around, there is also Kaggle Kernels (Kaggle owned by Google...)\n",
    "- When these videos were filmed: recent progress in computer vision\n",
    "- Now: recent progress in natural language processing (BERT, transformers, GPT-3, etc.)\n",
    "- Not discussed in video: automatic differentiation"
   ]
  },
  {
   "cell_type": "markdown",
   "metadata": {},
   "source": [
    "## Old exam questions (general course review)"
   ]
  },
  {
   "cell_type": "markdown",
   "metadata": {},
   "source": [
    "### 2017W1 final\n",
    "\n",
    "![](img/L32/2017w1.png)"
   ]
  },
  {
   "cell_type": "markdown",
   "metadata": {},
   "source": [
    "### 2018W1 final\n",
    "\n",
    "![](img/L32/2018W1.png)"
   ]
  },
  {
   "cell_type": "markdown",
   "metadata": {},
   "source": [
    "NOTE for posterity: this exercise probably needs about 20 min, because it takes a long time to talk through the answers."
   ]
  },
  {
   "cell_type": "code",
   "execution_count": null,
   "metadata": {},
   "outputs": [],
   "source": []
  },
  {
   "cell_type": "markdown",
   "metadata": {},
   "source": [
    "### also 2018W1 final\n",
    "\n",
    "![](img/review/2018matching_top.png)\n",
    "\n",
    "![](img/review/2018matching_bottom.png)\n"
   ]
  },
  {
   "cell_type": "markdown",
   "metadata": {},
   "source": [
    "## Student questions\n",
    "\n",
    "https://edstem.org/us/courses/3226/discussion/359513"
   ]
  },
  {
   "cell_type": "code",
   "execution_count": null,
   "metadata": {},
   "outputs": [],
   "source": []
  }
 ],
 "metadata": {
  "kernelspec": {
   "display_name": "Python 3",
   "language": "python",
   "name": "python3"
  },
  "language_info": {
   "codemirror_mode": {
    "name": "ipython",
    "version": 3
   },
   "file_extension": ".py",
   "mimetype": "text/x-python",
   "name": "python",
   "nbconvert_exporter": "python",
   "pygments_lexer": "ipython3",
   "version": "3.8.5"
  }
 },
 "nbformat": 4,
 "nbformat_minor": 4
}
