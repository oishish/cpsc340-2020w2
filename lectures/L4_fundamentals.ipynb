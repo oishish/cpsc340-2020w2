{
 "cells": [
  {
   "cell_type": "markdown",
   "metadata": {},
   "source": [
    "## CPSC 340 Lecture 4: Fundaments of Learning\n",
    "\n",
    "This notebook is for the in-class activities. It assumes you have already watched the [associated video](https://www.youtube.com/watch?v=dPm-KTrJlFU&list=PLWmXHcz_53Q02ZLeAxigki1JZFfCO6M-b&index=3)."
   ]
  },
  {
   "cell_type": "markdown",
   "metadata": {},
   "source": [
    "**REMINDER TO START RECORDING**"
   ]
  },
  {
   "cell_type": "markdown",
   "metadata": {},
   "source": [
    "## Admin\n",
    "\n",
    "- a1 due Wednesday\n",
    "- Tutorials started this week\n",
    "- Office hours started last week\n",
    "- Q&A on [Ed](https://edstem.org/us/courses/3226/)\n",
    "- Note that this lecture overlaps a lot with CPSC 330\n",
    "  - But with a difference in terminology: CPSC 330's \"deployment\" is called \"test\" here."
   ]
  },
  {
   "cell_type": "markdown",
   "metadata": {},
   "source": [
    "## Lecture chapters\n",
    "\n",
    "- notation review\n",
    "- digits dataset\n",
    "- decision tree demo\n",
    "- error vs. tree depth\n",
    "- overfitting\n",
    "- train/test notation\n",
    "- Golden Rule of ML\n",
    "- iid assumption\n",
    "- the fundamental tradeoff\n",
    "- validation error\n",
    "- parameters vs. hyperparameters"
   ]
  },
  {
   "cell_type": "markdown",
   "metadata": {},
   "source": [
    "## True/False questions\n",
    "\n"
   ]
  },
  {
   "cell_type": "markdown",
   "metadata": {},
   "source": [
    "1. More complicated models, like deeper decision trees, tend to achieve a lower training error (than simpler models). \n",
    "2. More complicated models, like deeper decision trees, tend to achieve a lower test error (than simpler models). \n",
    "3. More complicated models, like deeper decision trees, tend to achieve a lower approximation error (than simpler models). \n",
    "4. More complicated models, like deeper decision trees, tend to require more data to train (than simpler models). "
   ]
  },
  {
   "cell_type": "code",
   "execution_count": null,
   "metadata": {},
   "outputs": [],
   "source": []
  },
  {
   "cell_type": "code",
   "execution_count": null,
   "metadata": {},
   "outputs": [],
   "source": []
  },
  {
   "cell_type": "markdown",
   "metadata": {},
   "source": [
    "## Overfitting or underfitting questions\n",
    "\n",
    "1. You meet a cyclist wearing a helmet. You conclude that \"all cyclists wear helmets, and all pedestrians don't wear helmets\".\n",
    "2. You meet 1000 cyclists and all are wearing helmets. You conclude that \"all cyclists wear helmets, and all pedestrians don't wear helmets\".\n",
    "3. Of your 4 instructors this term, your CPSC 340 instructor is the most disorganized. You conclude that \"any UBC instructor wearing a grey shirt, black headphones, brown hair and brown eyes must be disorganized.\""
   ]
  },
  {
   "cell_type": "code",
   "execution_count": null,
   "metadata": {},
   "outputs": [],
   "source": []
  },
  {
   "cell_type": "markdown",
   "metadata": {},
   "source": [
    "## Discussion question\n",
    "\n",
    "I fit a decision tree to a dataset. I obtain a training error of 0.1 and a validation error of 0.2. Then, I realize I had violated the Golden Rule of ML - some of this same validation data had actually been used for training!  \n",
    "\n",
    "1. Would you say the training error of 0.1 is \"wrong\" or misleading? If so, is it too low or too high?\n",
    "2. Would you say the validation error of 0.2 is \"wrong\" or misleading? If so, is it too low or too high?\n",
    "3. What do you think the test error might be? "
   ]
  },
  {
   "cell_type": "code",
   "execution_count": null,
   "metadata": {},
   "outputs": [],
   "source": []
  },
  {
   "cell_type": "code",
   "execution_count": null,
   "metadata": {},
   "outputs": [],
   "source": []
  }
 ],
 "metadata": {
  "kernelspec": {
   "display_name": "Python 3",
   "language": "python",
   "name": "python3"
  },
  "language_info": {
   "codemirror_mode": {
    "name": "ipython",
    "version": 3
   },
   "file_extension": ".py",
   "mimetype": "text/x-python",
   "name": "python",
   "nbconvert_exporter": "python",
   "pygments_lexer": "ipython3",
   "version": "3.9.1"
  }
 },
 "nbformat": 4,
 "nbformat_minor": 4
}
