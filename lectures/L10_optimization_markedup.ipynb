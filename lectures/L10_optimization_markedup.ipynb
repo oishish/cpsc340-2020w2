{
 "cells": [
  {
   "cell_type": "markdown",
   "metadata": {},
   "source": [
    "## CPSC 340 Lecture 10: intro to optimization\n",
    "\n",
    "This notebook is for the in-class activities. It assumes you have already watched the [associated video](https://www.youtube.com/watch?v=bzj1L997uT8&list=PLWmXHcz_53Q02ZLeAxigki1JZFfCO6M-b&index=9)."
   ]
  },
  {
   "cell_type": "markdown",
   "metadata": {},
   "source": [
    "<font color='red'>**REMINDER TO START RECORDING**</font>\n",
    "\n",
    "Also, reminder to enable screen sharing for Participants."
   ]
  },
  {
   "cell_type": "markdown",
   "metadata": {},
   "source": [
    "## Admin\n",
    "\n",
    "- a1 grades returned\n",
    "- a2 due Wednesday\n",
    "- This is where CPSC 340 departs majorly from CPSC 330\n",
    "- Countdown to reading week: 6 more classes"
   ]
  },
  {
   "cell_type": "markdown",
   "metadata": {},
   "source": [
    "## Video chapters\n",
    "\n",
    "- optimization introduction\n",
    "- terminology\n",
    "- dimensionality\n",
    "- continuous vs. discrete\n",
    "- optimization in ML\n",
    "- domains\n",
    "- constraints\n",
    "- convex functions\n",
    "- solving optimization problems\n",
    "- min/max ambiguities\n",
    "- scipy optimize demo"
   ]
  },
  {
   "cell_type": "markdown",
   "metadata": {},
   "source": [
    "## True/False questions\n",
    "\n",
    "For these questions, we can assume a minimum of $f(x)$ exists.\n",
    "\n",
    "1. The result of $\\min_x f(x)$ **is** a single value, but the result of $\\arg \\min_x f(x)$ may be multiple values.\n",
    "2. $\\min_x f(x)=\\min_x 10f(x)$ for any $f(x)$.\n",
    "3. $\\arg \\min_x f(x)=\\arg \\min_x 10f(x)$ for any $f(x)$.\n",
    "4. $\\max(f(x), -f(x))=|f(x)|$ for any $f(x)$."
   ]
  },
  {
   "cell_type": "markdown",
   "metadata": {},
   "source": [
    "**Mike's answers:**\n",
    "\n",
    "1. True.\n",
    "2. False. If you multiple $f(x)$ by 10 everywhere, the minimum value will also be multiplied by 10. \n",
    "3. True. E.g. $f(x)=(x-1)^2+2$ vs. $10(x-1)^2+20$.\n",
    "4. True. Think about $\\max(-x,x)=|x|$. This says, \"give me an $x$, and I’ll return whichever is larger, $x$ or $-x$\". If x is positive this returns $x$; if $x$ is negative this returns $-x$; either way it returns the positive value, i.e. $|x|$."
   ]
  },
  {
   "cell_type": "markdown",
   "metadata": {},
   "source": [
    "## Discussion question"
   ]
  },
  {
   "cell_type": "markdown",
   "metadata": {},
   "source": [
    "You want to minimize a function $f(x)$. Someone tells you all the places where $\\nabla f(x)=0$. You decide to look through all of these, check the value of $f$ in each case, and declare the smallest one your winner. Describe two circumstances in which this would **not** be a valid approach."
   ]
  },
  {
   "cell_type": "markdown",
   "metadata": {},
   "source": [
    "**Mike's answer:**\n",
    "\n",
    "- The minimum might not exist!\n",
    "- Bounds or constraints, e.g. $\\min_x 2x$ s.t. $x\\geq 0$.\n",
    "- The function is not smooth / the derivative does not exist. e.g. $|x|$. The minimum is at $x=0$ but the derivative is not zero there because the derivative does not exist there. \n",
    "- Infinite number of points where the gradient is 0: this approach would take infinitely long and you'd get bored long before you were done."
   ]
  },
  {
   "cell_type": "markdown",
   "metadata": {},
   "source": [
    "## Convexity slides\n",
    "\n",
    "https://github.com/UBC-CS/cpsc340-2020w2/blob/main/lectures/10_convexity.pdf"
   ]
  },
  {
   "cell_type": "markdown",
   "metadata": {},
   "source": [
    "## Old exam question\n",
    "\n",
    "#### From 2020S1 midterm\n",
    "\n",
    "Why is it useful to know whether or not an objective function is convex?"
   ]
  },
  {
   "cell_type": "markdown",
   "metadata": {},
   "source": [
    "## Student questions\n",
    "\n",
    "https://edstem.org/us/courses/3226/discussion/229228"
   ]
  },
  {
   "cell_type": "code",
   "execution_count": null,
   "metadata": {},
   "outputs": [],
   "source": []
  }
 ],
 "metadata": {
  "kernelspec": {
   "display_name": "Python 3",
   "language": "python",
   "name": "python3"
  },
  "language_info": {
   "codemirror_mode": {
    "name": "ipython",
    "version": 3
   },
   "file_extension": ".py",
   "mimetype": "text/x-python",
   "name": "python",
   "nbconvert_exporter": "python",
   "pygments_lexer": "ipython3",
   "version": "3.9.1"
  }
 },
 "nbformat": 4,
 "nbformat_minor": 4
}
